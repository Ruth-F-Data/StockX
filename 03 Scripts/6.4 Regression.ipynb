{
 "cells": [
  {
   "cell_type": "markdown",
   "id": "968a09b5",
   "metadata": {},
   "source": [
    "### Contents\n",
    "#### 1. Importing libraries and data\n",
    "#### 2. Data cleaning\n",
    "#### 3. Data prep for regression analysis\n",
    "#### 4. Regression analysis\n",
    "    Retail price vs sales price\n",
    "    Retail price (220 and higher) vs sale price\n",
    "    Days since release vs sale price\n",
    "    Days since release (first 6 months) vs sale price\n",
    "#### 5. Regression analysis by brand  \n",
    "    Retail price vs sales price\n",
    "    Days since release vs sale price"
   ]
  },
  {
   "cell_type": "markdown",
   "id": "f66b3451",
   "metadata": {},
   "source": [
    "### 1. Importing libraries and data"
   ]
  },
  {
   "cell_type": "code",
   "execution_count": 1,
   "id": "d18797b7",
   "metadata": {},
   "outputs": [],
   "source": [
    "import pandas as pd\n",
    "import numpy as np\n",
    "import seaborn as sns\n",
    "import matplotlib\n",
    "import matplotlib.pyplot as plt\n",
    "import os\n",
    "import sklearn\n",
    "from sklearn.model_selection import train_test_split \n",
    "from sklearn.linear_model import LinearRegression\n",
    "from sklearn.metrics import mean_squared_error, r2_score"
   ]
  },
  {
   "cell_type": "code",
   "execution_count": 2,
   "id": "c66e0af9",
   "metadata": {},
   "outputs": [],
   "source": [
    "# This option ensures that the graphs you create are displayed within the notebook without the need to \"call\" them specifically.\n",
    "\n",
    "%matplotlib inline"
   ]
  },
  {
   "cell_type": "code",
   "execution_count": 3,
   "id": "73553662",
   "metadata": {},
   "outputs": [],
   "source": [
    "df = pd.read_excel(r\"C:/Users/ruthf/OneDrive/Documents/Data Immersion/Achievement 6/Project/02 Data/1. Orignal Data/StockX_data_add_columns.xlsx\")"
   ]
  },
  {
   "cell_type": "markdown",
   "id": "30f3774a",
   "metadata": {},
   "source": [
    "### 2. Data Cleaning"
   ]
  },
  {
   "cell_type": "code",
   "execution_count": 4,
   "id": "bc4e85e1",
   "metadata": {},
   "outputs": [
    {
     "data": {
      "text/html": [
       "<div>\n",
       "<style scoped>\n",
       "    .dataframe tbody tr th:only-of-type {\n",
       "        vertical-align: middle;\n",
       "    }\n",
       "\n",
       "    .dataframe tbody tr th {\n",
       "        vertical-align: top;\n",
       "    }\n",
       "\n",
       "    .dataframe thead th {\n",
       "        text-align: right;\n",
       "    }\n",
       "</style>\n",
       "<table border=\"1\" class=\"dataframe\">\n",
       "  <thead>\n",
       "    <tr style=\"text-align: right;\">\n",
       "      <th></th>\n",
       "      <th>Order Date</th>\n",
       "      <th>Brand</th>\n",
       "      <th>Sneaker Name</th>\n",
       "      <th>Sale Price</th>\n",
       "      <th>Retail Price</th>\n",
       "      <th>Release Date</th>\n",
       "      <th>Shoe Size</th>\n",
       "      <th>Buyer Region</th>\n",
       "      <th>Profit</th>\n",
       "      <th>Profit %</th>\n",
       "      <th>Release Year</th>\n",
       "      <th>Sold Year</th>\n",
       "      <th>Days since release</th>\n",
       "    </tr>\n",
       "  </thead>\n",
       "  <tbody>\n",
       "    <tr>\n",
       "      <th>0</th>\n",
       "      <td>2017-09-01</td>\n",
       "      <td>Yeezy</td>\n",
       "      <td>Adidas-Yeezy-Boost-350-Low-V2-Beluga</td>\n",
       "      <td>1097.0</td>\n",
       "      <td>220</td>\n",
       "      <td>2016-09-24</td>\n",
       "      <td>11.0</td>\n",
       "      <td>California</td>\n",
       "      <td>877.0</td>\n",
       "      <td>3.986364</td>\n",
       "      <td>2016</td>\n",
       "      <td>2017</td>\n",
       "      <td>342</td>\n",
       "    </tr>\n",
       "    <tr>\n",
       "      <th>1</th>\n",
       "      <td>2017-09-01</td>\n",
       "      <td>Yeezy</td>\n",
       "      <td>Adidas-Yeezy-Boost-350-V2-Core-Black-Copper</td>\n",
       "      <td>685.0</td>\n",
       "      <td>220</td>\n",
       "      <td>2016-11-23</td>\n",
       "      <td>11.0</td>\n",
       "      <td>California</td>\n",
       "      <td>465.0</td>\n",
       "      <td>2.113636</td>\n",
       "      <td>2016</td>\n",
       "      <td>2017</td>\n",
       "      <td>282</td>\n",
       "    </tr>\n",
       "    <tr>\n",
       "      <th>2</th>\n",
       "      <td>2017-09-01</td>\n",
       "      <td>Yeezy</td>\n",
       "      <td>Adidas-Yeezy-Boost-350-V2-Core-Black-Green</td>\n",
       "      <td>690.0</td>\n",
       "      <td>220</td>\n",
       "      <td>2016-11-23</td>\n",
       "      <td>11.0</td>\n",
       "      <td>California</td>\n",
       "      <td>470.0</td>\n",
       "      <td>2.136364</td>\n",
       "      <td>2016</td>\n",
       "      <td>2017</td>\n",
       "      <td>282</td>\n",
       "    </tr>\n",
       "    <tr>\n",
       "      <th>3</th>\n",
       "      <td>2017-09-01</td>\n",
       "      <td>Yeezy</td>\n",
       "      <td>Adidas-Yeezy-Boost-350-V2-Core-Black-Red</td>\n",
       "      <td>1075.0</td>\n",
       "      <td>220</td>\n",
       "      <td>2016-11-23</td>\n",
       "      <td>11.5</td>\n",
       "      <td>Kentucky</td>\n",
       "      <td>855.0</td>\n",
       "      <td>3.886364</td>\n",
       "      <td>2016</td>\n",
       "      <td>2017</td>\n",
       "      <td>282</td>\n",
       "    </tr>\n",
       "    <tr>\n",
       "      <th>4</th>\n",
       "      <td>2017-09-01</td>\n",
       "      <td>Yeezy</td>\n",
       "      <td>Adidas-Yeezy-Boost-350-V2-Core-Black-Red-2017</td>\n",
       "      <td>828.0</td>\n",
       "      <td>220</td>\n",
       "      <td>2017-02-11</td>\n",
       "      <td>11.0</td>\n",
       "      <td>Rhode Island</td>\n",
       "      <td>608.0</td>\n",
       "      <td>2.763636</td>\n",
       "      <td>2017</td>\n",
       "      <td>2017</td>\n",
       "      <td>202</td>\n",
       "    </tr>\n",
       "  </tbody>\n",
       "</table>\n",
       "</div>"
      ],
      "text/plain": [
       "  Order Date   Brand                                   Sneaker Name  \\\n",
       "0 2017-09-01   Yeezy           Adidas-Yeezy-Boost-350-Low-V2-Beluga   \n",
       "1 2017-09-01   Yeezy    Adidas-Yeezy-Boost-350-V2-Core-Black-Copper   \n",
       "2 2017-09-01   Yeezy     Adidas-Yeezy-Boost-350-V2-Core-Black-Green   \n",
       "3 2017-09-01   Yeezy       Adidas-Yeezy-Boost-350-V2-Core-Black-Red   \n",
       "4 2017-09-01   Yeezy  Adidas-Yeezy-Boost-350-V2-Core-Black-Red-2017   \n",
       "\n",
       "   Sale Price  Retail Price Release Date  Shoe Size  Buyer Region  Profit  \\\n",
       "0      1097.0           220   2016-09-24       11.0    California   877.0   \n",
       "1       685.0           220   2016-11-23       11.0    California   465.0   \n",
       "2       690.0           220   2016-11-23       11.0    California   470.0   \n",
       "3      1075.0           220   2016-11-23       11.5      Kentucky   855.0   \n",
       "4       828.0           220   2017-02-11       11.0  Rhode Island   608.0   \n",
       "\n",
       "   Profit %  Release Year  Sold Year  Days since release  \n",
       "0  3.986364          2016       2017                 342  \n",
       "1  2.113636          2016       2017                 282  \n",
       "2  2.136364          2016       2017                 282  \n",
       "3  3.886364          2016       2017                 282  \n",
       "4  2.763636          2017       2017                 202  "
      ]
     },
     "execution_count": 4,
     "metadata": {},
     "output_type": "execute_result"
    }
   ],
   "source": [
    "df.head()"
   ]
  },
  {
   "cell_type": "code",
   "execution_count": 5,
   "id": "35f74af5",
   "metadata": {},
   "outputs": [
    {
     "data": {
      "text/plain": [
       "(99956, 13)"
      ]
     },
     "execution_count": 5,
     "metadata": {},
     "output_type": "execute_result"
    }
   ],
   "source": [
    "df.shape"
   ]
  },
  {
   "cell_type": "code",
   "execution_count": 6,
   "id": "c8f48ae0",
   "metadata": {},
   "outputs": [
    {
     "data": {
      "text/plain": [
       "Order Date            0\n",
       "Brand                 0\n",
       "Sneaker Name          0\n",
       "Sale Price            0\n",
       "Retail Price          0\n",
       "Release Date          0\n",
       "Shoe Size             0\n",
       "Buyer Region          0\n",
       "Profit                0\n",
       "Profit %              0\n",
       "Release Year          0\n",
       "Sold Year             0\n",
       "Days since release    0\n",
       "dtype: int64"
      ]
     },
     "execution_count": 6,
     "metadata": {},
     "output_type": "execute_result"
    }
   ],
   "source": [
    "# Check for missing values\n",
    "df.isnull().sum()"
   ]
  },
  {
   "cell_type": "code",
   "execution_count": 7,
   "id": "efc647a9",
   "metadata": {},
   "outputs": [
    {
     "name": "stderr",
     "output_type": "stream",
     "text": [
      "C:\\Users\\ruthf\\anaconda3\\lib\\site-packages\\seaborn\\distributions.py:2619: FutureWarning: `distplot` is a deprecated function and will be removed in a future version. Please adapt your code to use either `displot` (a figure-level function with similar flexibility) or `histplot` (an axes-level function for histograms).\n",
      "  warnings.warn(msg, FutureWarning)\n"
     ]
    },
    {
     "data": {
      "text/plain": [
       "<AxesSubplot:xlabel='Sale Price', ylabel='Density'>"
      ]
     },
     "execution_count": 7,
     "metadata": {},
     "output_type": "execute_result"
    },
    {
     "data": {
      "image/png": "[encoded data removed]",
      "text/plain": [
       "<Figure size 432x288 with 1 Axes>"
      ]
     },
     "metadata": {
      "needs_background": "light"
     },
     "output_type": "display_data"
    }
   ],
   "source": [
    "# Check for extreme values\n",
    "sns.distplot(df['Sale Price'],bins = 25, kde = True)"
   ]
  },
  {
   "cell_type": "code",
   "execution_count": 8,
   "id": "a978dd75",
   "metadata": {},
   "outputs": [
    {
     "data": {
      "text/plain": [
       "446.6347542688783"
      ]
     },
     "execution_count": 8,
     "metadata": {},
     "output_type": "execute_result"
    }
   ],
   "source": [
    "# Check Mean\n",
    "df['Sale Price'].mean()"
   ]
  },
  {
   "cell_type": "code",
   "execution_count": 9,
   "id": "69e41b6b",
   "metadata": {},
   "outputs": [
    {
     "data": {
      "text/plain": [
       "370.0"
      ]
     },
     "execution_count": 9,
     "metadata": {},
     "output_type": "execute_result"
    }
   ],
   "source": [
    "# Check median\n",
    "df['Sale Price'].median()"
   ]
  },
  {
   "cell_type": "code",
   "execution_count": 10,
   "id": "969bcdfe",
   "metadata": {},
   "outputs": [
    {
     "data": {
      "text/plain": [
       "4050.0"
      ]
     },
     "execution_count": 10,
     "metadata": {},
     "output_type": "execute_result"
    }
   ],
   "source": [
    "# Check max\n",
    "df['Sale Price'].max()"
   ]
  },
  {
   "cell_type": "code",
   "execution_count": 11,
   "id": "d9e6a5b7",
   "metadata": {},
   "outputs": [
    {
     "data": {
      "text/plain": [
       "186.0"
      ]
     },
     "execution_count": 11,
     "metadata": {},
     "output_type": "execute_result"
    }
   ],
   "source": [
    "# Check min\n",
    "df['Sale Price'].min()"
   ]
  },
  {
   "cell_type": "code",
   "execution_count": 12,
   "id": "3283e9fa",
   "metadata": {},
   "outputs": [
    {
     "data": {
      "text/plain": [
       "3864.0"
      ]
     },
     "execution_count": 12,
     "metadata": {},
     "output_type": "execute_result"
    }
   ],
   "source": [
    "df['Sale Price'].max()-df['Sale Price'].min()"
   ]
  },
  {
   "cell_type": "code",
   "execution_count": 13,
   "id": "caf32c39",
   "metadata": {},
   "outputs": [
    {
     "data": {
      "text/html": [
       "<div>\n",
       "<style scoped>\n",
       "    .dataframe tbody tr th:only-of-type {\n",
       "        vertical-align: middle;\n",
       "    }\n",
       "\n",
       "    .dataframe tbody tr th {\n",
       "        vertical-align: top;\n",
       "    }\n",
       "\n",
       "    .dataframe thead th {\n",
       "        text-align: right;\n",
       "    }\n",
       "</style>\n",
       "<table border=\"1\" class=\"dataframe\">\n",
       "  <thead>\n",
       "    <tr style=\"text-align: right;\">\n",
       "      <th></th>\n",
       "      <th>Sale Price</th>\n",
       "      <th>Retail Price</th>\n",
       "      <th>Shoe Size</th>\n",
       "      <th>Profit</th>\n",
       "      <th>Profit %</th>\n",
       "      <th>Release Year</th>\n",
       "      <th>Sold Year</th>\n",
       "      <th>Days since release</th>\n",
       "    </tr>\n",
       "  </thead>\n",
       "  <tbody>\n",
       "    <tr>\n",
       "      <th>count</th>\n",
       "      <td>99956.000000</td>\n",
       "      <td>99956.00000</td>\n",
       "      <td>99956.000000</td>\n",
       "      <td>99956.000000</td>\n",
       "      <td>99956.000000</td>\n",
       "      <td>99956.000000</td>\n",
       "      <td>99956.000000</td>\n",
       "      <td>99956.000000</td>\n",
       "    </tr>\n",
       "    <tr>\n",
       "      <th>mean</th>\n",
       "      <td>446.634754</td>\n",
       "      <td>208.61359</td>\n",
       "      <td>9.344181</td>\n",
       "      <td>238.021164</td>\n",
       "      <td>1.248245</td>\n",
       "      <td>2017.467246</td>\n",
       "      <td>2018.029013</td>\n",
       "      <td>183.708722</td>\n",
       "    </tr>\n",
       "    <tr>\n",
       "      <th>std</th>\n",
       "      <td>255.982918</td>\n",
       "      <td>25.20001</td>\n",
       "      <td>2.329588</td>\n",
       "      <td>266.133127</td>\n",
       "      <td>1.508563</td>\n",
       "      <td>0.579352</td>\n",
       "      <td>0.542357</td>\n",
       "      <td>232.354142</td>\n",
       "    </tr>\n",
       "    <tr>\n",
       "      <th>min</th>\n",
       "      <td>186.000000</td>\n",
       "      <td>130.00000</td>\n",
       "      <td>3.500000</td>\n",
       "      <td>-34.000000</td>\n",
       "      <td>-0.154545</td>\n",
       "      <td>2015.000000</td>\n",
       "      <td>2017.000000</td>\n",
       "      <td>-69.000000</td>\n",
       "    </tr>\n",
       "    <tr>\n",
       "      <th>25%</th>\n",
       "      <td>275.000000</td>\n",
       "      <td>220.00000</td>\n",
       "      <td>8.000000</td>\n",
       "      <td>58.000000</td>\n",
       "      <td>0.263636</td>\n",
       "      <td>2017.000000</td>\n",
       "      <td>2018.000000</td>\n",
       "      <td>10.000000</td>\n",
       "    </tr>\n",
       "    <tr>\n",
       "      <th>50%</th>\n",
       "      <td>370.000000</td>\n",
       "      <td>220.00000</td>\n",
       "      <td>9.500000</td>\n",
       "      <td>154.000000</td>\n",
       "      <td>0.704545</td>\n",
       "      <td>2017.000000</td>\n",
       "      <td>2018.000000</td>\n",
       "      <td>56.000000</td>\n",
       "    </tr>\n",
       "    <tr>\n",
       "      <th>75%</th>\n",
       "      <td>540.000000</td>\n",
       "      <td>220.00000</td>\n",
       "      <td>11.000000</td>\n",
       "      <td>342.000000</td>\n",
       "      <td>1.613636</td>\n",
       "      <td>2018.000000</td>\n",
       "      <td>2018.000000</td>\n",
       "      <td>345.000000</td>\n",
       "    </tr>\n",
       "    <tr>\n",
       "      <th>max</th>\n",
       "      <td>4050.000000</td>\n",
       "      <td>250.00000</td>\n",
       "      <td>17.000000</td>\n",
       "      <td>3860.000000</td>\n",
       "      <td>20.315789</td>\n",
       "      <td>2019.000000</td>\n",
       "      <td>2019.000000</td>\n",
       "      <td>1321.000000</td>\n",
       "    </tr>\n",
       "  </tbody>\n",
       "</table>\n",
       "</div>"
      ],
      "text/plain": [
       "         Sale Price  Retail Price     Shoe Size        Profit      Profit %  \\\n",
       "count  99956.000000   99956.00000  99956.000000  99956.000000  99956.000000   \n",
       "mean     446.634754     208.61359      9.344181    238.021164      1.248245   \n",
       "std      255.982918      25.20001      2.329588    266.133127      1.508563   \n",
       "min      186.000000     130.00000      3.500000    -34.000000     -0.154545   \n",
       "25%      275.000000     220.00000      8.000000     58.000000      0.263636   \n",
       "50%      370.000000     220.00000      9.500000    154.000000      0.704545   \n",
       "75%      540.000000     220.00000     11.000000    342.000000      1.613636   \n",
       "max     4050.000000     250.00000     17.000000   3860.000000     20.315789   \n",
       "\n",
       "       Release Year     Sold Year  Days since release  \n",
       "count  99956.000000  99956.000000        99956.000000  \n",
       "mean    2017.467246   2018.029013          183.708722  \n",
       "std        0.579352      0.542357          232.354142  \n",
       "min     2015.000000   2017.000000          -69.000000  \n",
       "25%     2017.000000   2018.000000           10.000000  \n",
       "50%     2017.000000   2018.000000           56.000000  \n",
       "75%     2018.000000   2018.000000          345.000000  \n",
       "max     2019.000000   2019.000000         1321.000000  "
      ]
     },
     "execution_count": 13,
     "metadata": {},
     "output_type": "execute_result"
    }
   ],
   "source": [
    "df.describe()"
   ]
  },
  {
   "cell_type": "markdown",
   "id": "5335fa7b",
   "metadata": {},
   "source": [
    "### Data prep for regression analysis"
   ]
  },
  {
   "cell_type": "markdown",
   "id": "43fbe40e",
   "metadata": {},
   "source": [
    "#### Hypothesis 1: If a sneaker has a retail price of 220 it will sell for a low price."
   ]
  },
  {
   "cell_type": "code",
   "execution_count": 14,
   "id": "32b42824",
   "metadata": {},
   "outputs": [
    {
     "data": {
      "image/png": "[encoded data removed]",
      "text/plain": [
       "<Figure size 432x288 with 1 Axes>"
      ]
     },
     "metadata": {
      "needs_background": "light"
     },
     "output_type": "display_data"
    }
   ],
   "source": [
    "# Create a scatterplot using matplotlib for another look at how the chosen variables plot against each other.\n",
    "\n",
    "df.plot(x = 'Retail Price', y='Sale Price',style='o') # The style option creates a scatterplot; without it, we only have lines.\n",
    "plt.title('Retail Price vs Sale Price')  \n",
    "plt.xlabel('Retail Price')  \n",
    "plt.ylabel('Sale Price')  \n",
    "plt.show()"
   ]
  },
  {
   "cell_type": "code",
   "execution_count": 15,
   "id": "a60b7073",
   "metadata": {},
   "outputs": [],
   "source": [
    "# Reshape the variables into NumPy arrays and put them into separate objects.\n",
    "X = df['Retail Price'].values.reshape(-1,1)\n",
    "y = df['Sale Price'].values.reshape(-1,1)"
   ]
  },
  {
   "cell_type": "code",
   "execution_count": 16,
   "id": "1eecdaef",
   "metadata": {},
   "outputs": [
    {
     "data": {
      "text/plain": [
       "array([[220],\n",
       "       [220],\n",
       "       [220],\n",
       "       ...,\n",
       "       [220],\n",
       "       [220],\n",
       "       [220]], dtype=int64)"
      ]
     },
     "execution_count": 16,
     "metadata": {},
     "output_type": "execute_result"
    }
   ],
   "source": [
    "X"
   ]
  },
  {
   "cell_type": "code",
   "execution_count": 17,
   "id": "d11fc148",
   "metadata": {},
   "outputs": [
    {
     "data": {
      "text/plain": [
       "array([[1097.],\n",
       "       [ 685.],\n",
       "       [ 690.],\n",
       "       ...,\n",
       "       [ 605.],\n",
       "       [ 650.],\n",
       "       [ 640.]])"
      ]
     },
     "execution_count": 17,
     "metadata": {},
     "output_type": "execute_result"
    }
   ],
   "source": [
    "y"
   ]
  },
  {
   "cell_type": "code",
   "execution_count": 18,
   "id": "132ed775",
   "metadata": {},
   "outputs": [],
   "source": [
    "# Split data into a training set and a test set.  Using test_train_split\n",
    "X_train,X_test,y_train,y_test = train_test_split(X,y,test_size = 0.3,random_state = 0)\n"
   ]
  },
  {
   "cell_type": "markdown",
   "id": "e8712f2e",
   "metadata": {},
   "source": [
    "### 4. Regression Analysis"
   ]
  },
  {
   "cell_type": "code",
   "execution_count": 19,
   "id": "b6d5f999",
   "metadata": {},
   "outputs": [],
   "source": [
    "# Create regression object\n",
    "regression = LinearRegression()"
   ]
  },
  {
   "cell_type": "code",
   "execution_count": 20,
   "id": "99dbc3f3",
   "metadata": {},
   "outputs": [
    {
     "data": {
      "text/plain": [
       "LinearRegression()"
      ]
     },
     "execution_count": 20,
     "metadata": {},
     "output_type": "execute_result"
    }
   ],
   "source": [
    "# Fit the regression to the training set of each variable.  This trains the model.\n",
    "regression.fit(X_train, y_train)"
   ]
  },
  {
   "cell_type": "code",
   "execution_count": 21,
   "id": "767f93e8",
   "metadata": {},
   "outputs": [],
   "source": [
    "# Apply model to x_test data to predict y values\n",
    "y_predicted = regression.predict(X_test)"
   ]
  },
  {
   "cell_type": "code",
   "execution_count": 22,
   "id": "b062282e",
   "metadata": {},
   "outputs": [
    {
     "data": {
      "image/png": "[encoded data removed]",
      "text/plain": [
       "<Figure size 432x288 with 1 Axes>"
      ]
     },
     "metadata": {
      "needs_background": "light"
     },
     "output_type": "display_data"
    }
   ],
   "source": [
    "# Create a plot that shows the regression line from the model on the test set.\n",
    "plot_test = plt\n",
    "plot_test.scatter(X_test, y_test, color='gray', s = 15)\n",
    "plot_test.plot(X_test, y_predicted, color='red', linewidth =3)\n",
    "plot_test.title('Retail Price vs Sales Price (Test set)')\n",
    "plot_test.xlabel('Retail Price')\n",
    "plot_test.ylabel('Sale Price')\n",
    "plot_test.show()"
   ]
  },
  {
   "cell_type": "markdown",
   "id": "7f4ba9b3",
   "metadata": {},
   "source": [
    "#### The line does not fit the data very well.  This can be seen by the distance of the data points to the line. Indicating we do not have a linear relationship between the variables."
   ]
  },
  {
   "cell_type": "code",
   "execution_count": 23,
   "id": "10681f4a",
   "metadata": {},
   "outputs": [],
   "source": [
    "# Check the slope, MSE and R2 score.\n",
    "# Create objects that contain the model summary statistics.\n",
    "rmse = mean_squared_error(y_test, y_predicted)\n",
    "r2 = r2_score(y_test, y_predicted)"
   ]
  },
  {
   "cell_type": "code",
   "execution_count": 24,
   "id": "4c109f2c",
   "metadata": {},
   "outputs": [
    {
     "name": "stdout",
     "output_type": "stream",
     "text": [
      "Slope: [[-3.6397922]]\n",
      "Mean squared error:  55223.90525961011\n",
      "R2 score:  0.1364535198423945\n"
     ]
    }
   ],
   "source": [
    "# Print the model summary statistics. This is where you evaluate the performance of the model.\n",
    "\n",
    "print('Slope:' ,regression.coef_)\n",
    "print('Mean squared error: ', rmse)\n",
    "print('R2 score: ', r2)"
   ]
  },
  {
   "cell_type": "code",
   "execution_count": 25,
   "id": "f6799212",
   "metadata": {},
   "outputs": [
    {
     "data": {
      "text/html": [
       "<div>\n",
       "<style scoped>\n",
       "    .dataframe tbody tr th:only-of-type {\n",
       "        vertical-align: middle;\n",
       "    }\n",
       "\n",
       "    .dataframe tbody tr th {\n",
       "        vertical-align: top;\n",
       "    }\n",
       "\n",
       "    .dataframe thead th {\n",
       "        text-align: right;\n",
       "    }\n",
       "</style>\n",
       "<table border=\"1\" class=\"dataframe\">\n",
       "  <thead>\n",
       "    <tr style=\"text-align: right;\">\n",
       "      <th></th>\n",
       "      <th>Actual</th>\n",
       "      <th>Predicted</th>\n",
       "    </tr>\n",
       "  </thead>\n",
       "  <tbody>\n",
       "    <tr>\n",
       "      <th>0</th>\n",
       "      <td>249.0</td>\n",
       "      <td>405.813086</td>\n",
       "    </tr>\n",
       "    <tr>\n",
       "      <th>1</th>\n",
       "      <td>290.0</td>\n",
       "      <td>405.813086</td>\n",
       "    </tr>\n",
       "    <tr>\n",
       "      <th>2</th>\n",
       "      <td>288.0</td>\n",
       "      <td>405.813086</td>\n",
       "    </tr>\n",
       "    <tr>\n",
       "      <th>3</th>\n",
       "      <td>488.0</td>\n",
       "      <td>405.813086</td>\n",
       "    </tr>\n",
       "    <tr>\n",
       "      <th>4</th>\n",
       "      <td>549.0</td>\n",
       "      <td>296.619320</td>\n",
       "    </tr>\n",
       "    <tr>\n",
       "      <th>5</th>\n",
       "      <td>384.0</td>\n",
       "      <td>405.813086</td>\n",
       "    </tr>\n",
       "    <tr>\n",
       "      <th>6</th>\n",
       "      <td>2100.0</td>\n",
       "      <td>515.006852</td>\n",
       "    </tr>\n",
       "    <tr>\n",
       "      <th>7</th>\n",
       "      <td>269.0</td>\n",
       "      <td>405.813086</td>\n",
       "    </tr>\n",
       "    <tr>\n",
       "      <th>8</th>\n",
       "      <td>326.0</td>\n",
       "      <td>405.813086</td>\n",
       "    </tr>\n",
       "    <tr>\n",
       "      <th>9</th>\n",
       "      <td>252.0</td>\n",
       "      <td>405.813086</td>\n",
       "    </tr>\n",
       "    <tr>\n",
       "      <th>10</th>\n",
       "      <td>309.0</td>\n",
       "      <td>405.813086</td>\n",
       "    </tr>\n",
       "    <tr>\n",
       "      <th>11</th>\n",
       "      <td>377.0</td>\n",
       "      <td>405.813086</td>\n",
       "    </tr>\n",
       "    <tr>\n",
       "      <th>12</th>\n",
       "      <td>390.0</td>\n",
       "      <td>405.813086</td>\n",
       "    </tr>\n",
       "    <tr>\n",
       "      <th>13</th>\n",
       "      <td>420.0</td>\n",
       "      <td>405.813086</td>\n",
       "    </tr>\n",
       "    <tr>\n",
       "      <th>14</th>\n",
       "      <td>365.0</td>\n",
       "      <td>405.813086</td>\n",
       "    </tr>\n",
       "    <tr>\n",
       "      <th>15</th>\n",
       "      <td>443.0</td>\n",
       "      <td>405.813086</td>\n",
       "    </tr>\n",
       "    <tr>\n",
       "      <th>16</th>\n",
       "      <td>325.0</td>\n",
       "      <td>405.813086</td>\n",
       "    </tr>\n",
       "    <tr>\n",
       "      <th>17</th>\n",
       "      <td>564.0</td>\n",
       "      <td>296.619320</td>\n",
       "    </tr>\n",
       "    <tr>\n",
       "      <th>18</th>\n",
       "      <td>435.0</td>\n",
       "      <td>405.813086</td>\n",
       "    </tr>\n",
       "    <tr>\n",
       "      <th>19</th>\n",
       "      <td>300.0</td>\n",
       "      <td>405.813086</td>\n",
       "    </tr>\n",
       "    <tr>\n",
       "      <th>20</th>\n",
       "      <td>1180.0</td>\n",
       "      <td>515.006852</td>\n",
       "    </tr>\n",
       "    <tr>\n",
       "      <th>21</th>\n",
       "      <td>321.0</td>\n",
       "      <td>405.813086</td>\n",
       "    </tr>\n",
       "    <tr>\n",
       "      <th>22</th>\n",
       "      <td>1012.0</td>\n",
       "      <td>515.006852</td>\n",
       "    </tr>\n",
       "    <tr>\n",
       "      <th>23</th>\n",
       "      <td>299.0</td>\n",
       "      <td>405.813086</td>\n",
       "    </tr>\n",
       "    <tr>\n",
       "      <th>24</th>\n",
       "      <td>270.0</td>\n",
       "      <td>405.813086</td>\n",
       "    </tr>\n",
       "    <tr>\n",
       "      <th>25</th>\n",
       "      <td>388.0</td>\n",
       "      <td>587.802696</td>\n",
       "    </tr>\n",
       "    <tr>\n",
       "      <th>26</th>\n",
       "      <td>265.0</td>\n",
       "      <td>405.813086</td>\n",
       "    </tr>\n",
       "    <tr>\n",
       "      <th>27</th>\n",
       "      <td>840.0</td>\n",
       "      <td>733.394384</td>\n",
       "    </tr>\n",
       "    <tr>\n",
       "      <th>28</th>\n",
       "      <td>500.0</td>\n",
       "      <td>478.608930</td>\n",
       "    </tr>\n",
       "    <tr>\n",
       "      <th>29</th>\n",
       "      <td>330.0</td>\n",
       "      <td>478.608930</td>\n",
       "    </tr>\n",
       "  </tbody>\n",
       "</table>\n",
       "</div>"
      ],
      "text/plain": [
       "    Actual   Predicted\n",
       "0    249.0  405.813086\n",
       "1    290.0  405.813086\n",
       "2    288.0  405.813086\n",
       "3    488.0  405.813086\n",
       "4    549.0  296.619320\n",
       "5    384.0  405.813086\n",
       "6   2100.0  515.006852\n",
       "7    269.0  405.813086\n",
       "8    326.0  405.813086\n",
       "9    252.0  405.813086\n",
       "10   309.0  405.813086\n",
       "11   377.0  405.813086\n",
       "12   390.0  405.813086\n",
       "13   420.0  405.813086\n",
       "14   365.0  405.813086\n",
       "15   443.0  405.813086\n",
       "16   325.0  405.813086\n",
       "17   564.0  296.619320\n",
       "18   435.0  405.813086\n",
       "19   300.0  405.813086\n",
       "20  1180.0  515.006852\n",
       "21   321.0  405.813086\n",
       "22  1012.0  515.006852\n",
       "23   299.0  405.813086\n",
       "24   270.0  405.813086\n",
       "25   388.0  587.802696\n",
       "26   265.0  405.813086\n",
       "27   840.0  733.394384\n",
       "28   500.0  478.608930\n",
       "29   330.0  478.608930"
      ]
     },
     "execution_count": 25,
     "metadata": {},
     "output_type": "execute_result"
    }
   ],
   "source": [
    "# Create a dataframe comparing the actual and predicted values of y.\n",
    "\n",
    "data = pd.DataFrame({'Actual': y_test.flatten(), 'Predicted': y_predicted.flatten()})\n",
    "data.head(30)"
   ]
  },
  {
   "cell_type": "markdown",
   "id": "95954058",
   "metadata": {},
   "source": [
    "#### The summary statistics of the model confirm that the model is inaccurate.  Which can also be seen by the variance in the actual vs predicted values.  An R2 score of 0.13 indicates a very poor fit and the large MSE also confirms this.  The slope of -3.639 shows that as retail price increases sale price drops."
   ]
  },
  {
   "cell_type": "markdown",
   "id": "9cdc2a78",
   "metadata": {},
   "source": [
    "#### Compare how the regression fits the training set"
   ]
  },
  {
   "cell_type": "code",
   "execution_count": 26,
   "id": "1307c174",
   "metadata": {},
   "outputs": [],
   "source": [
    "# Predict on the training set\n",
    "\n",
    "y_predicted_train = regression.predict(X_train) # This is predicting X_train!"
   ]
  },
  {
   "cell_type": "code",
   "execution_count": 27,
   "id": "f53504ab",
   "metadata": {},
   "outputs": [],
   "source": [
    "rmse = mean_squared_error(y_train, y_predicted_train)\n",
    "r2 = r2_score(y_train, y_predicted_train)"
   ]
  },
  {
   "cell_type": "code",
   "execution_count": 28,
   "id": "b8c8c27c",
   "metadata": {},
   "outputs": [
    {
     "name": "stdout",
     "output_type": "stream",
     "text": [
      "Slope: [[-3.6397922]]\n",
      "Mean squared error:  57707.13824684011\n",
      "R2 score:  0.12827932377815143\n"
     ]
    }
   ],
   "source": [
    "print('Slope:' ,regression.coef_)\n",
    "print('Mean squared error: ', rmse)\n",
    "print('R2 score: ', r2)"
   ]
  },
  {
   "cell_type": "code",
   "execution_count": 29,
   "id": "f902b196",
   "metadata": {},
   "outputs": [
    {
     "data": {
      "image/png": "[encoded data removed]",
      "text/plain": [
       "<Figure size 432x288 with 1 Axes>"
      ]
     },
     "metadata": {
      "needs_background": "light"
     },
     "output_type": "display_data"
    }
   ],
   "source": [
    "plot_test = plt\n",
    "plot_test.scatter(X_train, y_train, color='green', s = 15)\n",
    "plot_test.plot(X_train, y_predicted_train, color='red', linewidth =3)\n",
    "plot_test.title('Retail Price vs Sale Price (Train set)')\n",
    "plot_test.xlabel('Retail Price')\n",
    "plot_test.ylabel('Sale Price')\n",
    "plot_test.show()"
   ]
  },
  {
   "cell_type": "markdown",
   "id": "5620113e",
   "metadata": {},
   "source": [
    "#### The models outcome on the training set is very similar to that on the test set.  With the MSE being even larger on the train set.  Confirming that this is not a good model to use.  This proves that the original retail price is not the driving factor of sale price. "
   ]
  },
  {
   "cell_type": "markdown",
   "id": "9d077c5a",
   "metadata": {},
   "source": [
    "### Regression on df of retail price 220 and higher"
   ]
  },
  {
   "cell_type": "code",
   "execution_count": 30,
   "id": "7ce4d76d",
   "metadata": {},
   "outputs": [
    {
     "data": {
      "text/html": [
       "<div>\n",
       "<style scoped>\n",
       "    .dataframe tbody tr th:only-of-type {\n",
       "        vertical-align: middle;\n",
       "    }\n",
       "\n",
       "    .dataframe tbody tr th {\n",
       "        vertical-align: top;\n",
       "    }\n",
       "\n",
       "    .dataframe thead th {\n",
       "        text-align: right;\n",
       "    }\n",
       "</style>\n",
       "<table border=\"1\" class=\"dataframe\">\n",
       "  <thead>\n",
       "    <tr style=\"text-align: right;\">\n",
       "      <th></th>\n",
       "      <th>Order Date</th>\n",
       "      <th>Brand</th>\n",
       "      <th>Sneaker Name</th>\n",
       "      <th>Sale Price</th>\n",
       "      <th>Retail Price</th>\n",
       "      <th>Release Date</th>\n",
       "      <th>Shoe Size</th>\n",
       "      <th>Buyer Region</th>\n",
       "      <th>Profit</th>\n",
       "      <th>Profit %</th>\n",
       "      <th>Release Year</th>\n",
       "      <th>Sold Year</th>\n",
       "      <th>Days since release</th>\n",
       "    </tr>\n",
       "  </thead>\n",
       "  <tbody>\n",
       "    <tr>\n",
       "      <th>0</th>\n",
       "      <td>2017-09-01</td>\n",
       "      <td>Yeezy</td>\n",
       "      <td>Adidas-Yeezy-Boost-350-Low-V2-Beluga</td>\n",
       "      <td>1097.0</td>\n",
       "      <td>220</td>\n",
       "      <td>2016-09-24</td>\n",
       "      <td>11.0</td>\n",
       "      <td>California</td>\n",
       "      <td>877.0</td>\n",
       "      <td>3.986364</td>\n",
       "      <td>2016</td>\n",
       "      <td>2017</td>\n",
       "      <td>342</td>\n",
       "    </tr>\n",
       "    <tr>\n",
       "      <th>1</th>\n",
       "      <td>2017-09-01</td>\n",
       "      <td>Yeezy</td>\n",
       "      <td>Adidas-Yeezy-Boost-350-V2-Core-Black-Copper</td>\n",
       "      <td>685.0</td>\n",
       "      <td>220</td>\n",
       "      <td>2016-11-23</td>\n",
       "      <td>11.0</td>\n",
       "      <td>California</td>\n",
       "      <td>465.0</td>\n",
       "      <td>2.113636</td>\n",
       "      <td>2016</td>\n",
       "      <td>2017</td>\n",
       "      <td>282</td>\n",
       "    </tr>\n",
       "    <tr>\n",
       "      <th>2</th>\n",
       "      <td>2017-09-01</td>\n",
       "      <td>Yeezy</td>\n",
       "      <td>Adidas-Yeezy-Boost-350-V2-Core-Black-Green</td>\n",
       "      <td>690.0</td>\n",
       "      <td>220</td>\n",
       "      <td>2016-11-23</td>\n",
       "      <td>11.0</td>\n",
       "      <td>California</td>\n",
       "      <td>470.0</td>\n",
       "      <td>2.136364</td>\n",
       "      <td>2016</td>\n",
       "      <td>2017</td>\n",
       "      <td>282</td>\n",
       "    </tr>\n",
       "    <tr>\n",
       "      <th>3</th>\n",
       "      <td>2017-09-01</td>\n",
       "      <td>Yeezy</td>\n",
       "      <td>Adidas-Yeezy-Boost-350-V2-Core-Black-Red</td>\n",
       "      <td>1075.0</td>\n",
       "      <td>220</td>\n",
       "      <td>2016-11-23</td>\n",
       "      <td>11.5</td>\n",
       "      <td>Kentucky</td>\n",
       "      <td>855.0</td>\n",
       "      <td>3.886364</td>\n",
       "      <td>2016</td>\n",
       "      <td>2017</td>\n",
       "      <td>282</td>\n",
       "    </tr>\n",
       "    <tr>\n",
       "      <th>4</th>\n",
       "      <td>2017-09-01</td>\n",
       "      <td>Yeezy</td>\n",
       "      <td>Adidas-Yeezy-Boost-350-V2-Core-Black-Red-2017</td>\n",
       "      <td>828.0</td>\n",
       "      <td>220</td>\n",
       "      <td>2017-02-11</td>\n",
       "      <td>11.0</td>\n",
       "      <td>Rhode Island</td>\n",
       "      <td>608.0</td>\n",
       "      <td>2.763636</td>\n",
       "      <td>2017</td>\n",
       "      <td>2017</td>\n",
       "      <td>202</td>\n",
       "    </tr>\n",
       "    <tr>\n",
       "      <th>...</th>\n",
       "      <td>...</td>\n",
       "      <td>...</td>\n",
       "      <td>...</td>\n",
       "      <td>...</td>\n",
       "      <td>...</td>\n",
       "      <td>...</td>\n",
       "      <td>...</td>\n",
       "      <td>...</td>\n",
       "      <td>...</td>\n",
       "      <td>...</td>\n",
       "      <td>...</td>\n",
       "      <td>...</td>\n",
       "      <td>...</td>\n",
       "    </tr>\n",
       "    <tr>\n",
       "      <th>99951</th>\n",
       "      <td>2019-02-13</td>\n",
       "      <td>Yeezy</td>\n",
       "      <td>adidas-Yeezy-Boost-350-V2-Static-Reflective</td>\n",
       "      <td>565.0</td>\n",
       "      <td>220</td>\n",
       "      <td>2018-12-26</td>\n",
       "      <td>8.0</td>\n",
       "      <td>Oregon</td>\n",
       "      <td>345.0</td>\n",
       "      <td>1.568182</td>\n",
       "      <td>2018</td>\n",
       "      <td>2019</td>\n",
       "      <td>49</td>\n",
       "    </tr>\n",
       "    <tr>\n",
       "      <th>99952</th>\n",
       "      <td>2019-02-13</td>\n",
       "      <td>Yeezy</td>\n",
       "      <td>adidas-Yeezy-Boost-350-V2-Static-Reflective</td>\n",
       "      <td>598.0</td>\n",
       "      <td>220</td>\n",
       "      <td>2018-12-26</td>\n",
       "      <td>8.5</td>\n",
       "      <td>California</td>\n",
       "      <td>378.0</td>\n",
       "      <td>1.718182</td>\n",
       "      <td>2018</td>\n",
       "      <td>2019</td>\n",
       "      <td>49</td>\n",
       "    </tr>\n",
       "    <tr>\n",
       "      <th>99953</th>\n",
       "      <td>2019-02-13</td>\n",
       "      <td>Yeezy</td>\n",
       "      <td>adidas-Yeezy-Boost-350-V2-Static-Reflective</td>\n",
       "      <td>605.0</td>\n",
       "      <td>220</td>\n",
       "      <td>2018-12-26</td>\n",
       "      <td>5.5</td>\n",
       "      <td>New York</td>\n",
       "      <td>385.0</td>\n",
       "      <td>1.750000</td>\n",
       "      <td>2018</td>\n",
       "      <td>2019</td>\n",
       "      <td>49</td>\n",
       "    </tr>\n",
       "    <tr>\n",
       "      <th>99954</th>\n",
       "      <td>2019-02-13</td>\n",
       "      <td>Yeezy</td>\n",
       "      <td>adidas-Yeezy-Boost-350-V2-Static-Reflective</td>\n",
       "      <td>650.0</td>\n",
       "      <td>220</td>\n",
       "      <td>2018-12-26</td>\n",
       "      <td>11.0</td>\n",
       "      <td>California</td>\n",
       "      <td>430.0</td>\n",
       "      <td>1.954545</td>\n",
       "      <td>2018</td>\n",
       "      <td>2019</td>\n",
       "      <td>49</td>\n",
       "    </tr>\n",
       "    <tr>\n",
       "      <th>99955</th>\n",
       "      <td>2019-02-13</td>\n",
       "      <td>Yeezy</td>\n",
       "      <td>adidas-Yeezy-Boost-350-V2-Static-Reflective</td>\n",
       "      <td>640.0</td>\n",
       "      <td>220</td>\n",
       "      <td>2018-12-26</td>\n",
       "      <td>11.5</td>\n",
       "      <td>Texas</td>\n",
       "      <td>420.0</td>\n",
       "      <td>1.909091</td>\n",
       "      <td>2018</td>\n",
       "      <td>2019</td>\n",
       "      <td>49</td>\n",
       "    </tr>\n",
       "  </tbody>\n",
       "</table>\n",
       "<p>75136 rows × 13 columns</p>\n",
       "</div>"
      ],
      "text/plain": [
       "      Order Date   Brand                                   Sneaker Name  \\\n",
       "0     2017-09-01   Yeezy           Adidas-Yeezy-Boost-350-Low-V2-Beluga   \n",
       "1     2017-09-01   Yeezy    Adidas-Yeezy-Boost-350-V2-Core-Black-Copper   \n",
       "2     2017-09-01   Yeezy     Adidas-Yeezy-Boost-350-V2-Core-Black-Green   \n",
       "3     2017-09-01   Yeezy       Adidas-Yeezy-Boost-350-V2-Core-Black-Red   \n",
       "4     2017-09-01   Yeezy  Adidas-Yeezy-Boost-350-V2-Core-Black-Red-2017   \n",
       "...          ...     ...                                            ...   \n",
       "99951 2019-02-13   Yeezy    adidas-Yeezy-Boost-350-V2-Static-Reflective   \n",
       "99952 2019-02-13   Yeezy    adidas-Yeezy-Boost-350-V2-Static-Reflective   \n",
       "99953 2019-02-13   Yeezy    adidas-Yeezy-Boost-350-V2-Static-Reflective   \n",
       "99954 2019-02-13   Yeezy    adidas-Yeezy-Boost-350-V2-Static-Reflective   \n",
       "99955 2019-02-13   Yeezy    adidas-Yeezy-Boost-350-V2-Static-Reflective   \n",
       "\n",
       "       Sale Price  Retail Price Release Date  Shoe Size  Buyer Region  Profit  \\\n",
       "0          1097.0           220   2016-09-24       11.0    California   877.0   \n",
       "1           685.0           220   2016-11-23       11.0    California   465.0   \n",
       "2           690.0           220   2016-11-23       11.0    California   470.0   \n",
       "3          1075.0           220   2016-11-23       11.5      Kentucky   855.0   \n",
       "4           828.0           220   2017-02-11       11.0  Rhode Island   608.0   \n",
       "...           ...           ...          ...        ...           ...     ...   \n",
       "99951       565.0           220   2018-12-26        8.0        Oregon   345.0   \n",
       "99952       598.0           220   2018-12-26        8.5    California   378.0   \n",
       "99953       605.0           220   2018-12-26        5.5      New York   385.0   \n",
       "99954       650.0           220   2018-12-26       11.0    California   430.0   \n",
       "99955       640.0           220   2018-12-26       11.5         Texas   420.0   \n",
       "\n",
       "       Profit %  Release Year  Sold Year  Days since release  \n",
       "0      3.986364          2016       2017                 342  \n",
       "1      2.113636          2016       2017                 282  \n",
       "2      2.136364          2016       2017                 282  \n",
       "3      3.886364          2016       2017                 282  \n",
       "4      2.763636          2017       2017                 202  \n",
       "...         ...           ...        ...                 ...  \n",
       "99951  1.568182          2018       2019                  49  \n",
       "99952  1.718182          2018       2019                  49  \n",
       "99953  1.750000          2018       2019                  49  \n",
       "99954  1.954545          2018       2019                  49  \n",
       "99955  1.909091          2018       2019                  49  \n",
       "\n",
       "[75136 rows x 13 columns]"
      ]
     },
     "execution_count": 30,
     "metadata": {},
     "output_type": "execute_result"
    }
   ],
   "source": [
    "df2 = df[df['Retail Price']>=220]\n",
    "df2"
   ]
  },
  {
   "cell_type": "code",
   "execution_count": 31,
   "id": "41ed0c39",
   "metadata": {},
   "outputs": [
    {
     "data": {
      "text/html": [
       "<div>\n",
       "<style scoped>\n",
       "    .dataframe tbody tr th:only-of-type {\n",
       "        vertical-align: middle;\n",
       "    }\n",
       "\n",
       "    .dataframe tbody tr th {\n",
       "        vertical-align: top;\n",
       "    }\n",
       "\n",
       "    .dataframe thead th {\n",
       "        text-align: right;\n",
       "    }\n",
       "</style>\n",
       "<table border=\"1\" class=\"dataframe\">\n",
       "  <thead>\n",
       "    <tr style=\"text-align: right;\">\n",
       "      <th></th>\n",
       "      <th>Sale Price</th>\n",
       "      <th>Retail Price</th>\n",
       "      <th>Shoe Size</th>\n",
       "      <th>Profit</th>\n",
       "      <th>Profit %</th>\n",
       "      <th>Release Year</th>\n",
       "      <th>Sold Year</th>\n",
       "      <th>Days since release</th>\n",
       "    </tr>\n",
       "  </thead>\n",
       "  <tbody>\n",
       "    <tr>\n",
       "      <th>count</th>\n",
       "      <td>75136.000000</td>\n",
       "      <td>75136.000000</td>\n",
       "      <td>75136.000000</td>\n",
       "      <td>75136.000000</td>\n",
       "      <td>75136.000000</td>\n",
       "      <td>75136.000000</td>\n",
       "      <td>75136.000000</td>\n",
       "      <td>75136.000000</td>\n",
       "    </tr>\n",
       "    <tr>\n",
       "      <th>mean</th>\n",
       "      <td>368.901605</td>\n",
       "      <td>221.369117</td>\n",
       "      <td>9.247065</td>\n",
       "      <td>147.532488</td>\n",
       "      <td>0.660732</td>\n",
       "      <td>2017.348768</td>\n",
       "      <td>2018.016849</td>\n",
       "      <td>220.720094</td>\n",
       "    </tr>\n",
       "    <tr>\n",
       "      <th>std</th>\n",
       "      <td>145.005088</td>\n",
       "      <td>6.260955</td>\n",
       "      <td>2.376685</td>\n",
       "      <td>142.497467</td>\n",
       "      <td>0.628627</td>\n",
       "      <td>0.525513</td>\n",
       "      <td>0.554583</td>\n",
       "      <td>243.103719</td>\n",
       "    </tr>\n",
       "    <tr>\n",
       "      <th>min</th>\n",
       "      <td>186.000000</td>\n",
       "      <td>220.000000</td>\n",
       "      <td>3.500000</td>\n",
       "      <td>-34.000000</td>\n",
       "      <td>-0.154545</td>\n",
       "      <td>2016.000000</td>\n",
       "      <td>2017.000000</td>\n",
       "      <td>-59.000000</td>\n",
       "    </tr>\n",
       "    <tr>\n",
       "      <th>25%</th>\n",
       "      <td>269.000000</td>\n",
       "      <td>220.000000</td>\n",
       "      <td>8.000000</td>\n",
       "      <td>49.000000</td>\n",
       "      <td>0.222727</td>\n",
       "      <td>2017.000000</td>\n",
       "      <td>2018.000000</td>\n",
       "      <td>14.000000</td>\n",
       "    </tr>\n",
       "    <tr>\n",
       "      <th>50%</th>\n",
       "      <td>326.000000</td>\n",
       "      <td>220.000000</td>\n",
       "      <td>9.500000</td>\n",
       "      <td>106.000000</td>\n",
       "      <td>0.481818</td>\n",
       "      <td>2017.000000</td>\n",
       "      <td>2018.000000</td>\n",
       "      <td>82.000000</td>\n",
       "    </tr>\n",
       "    <tr>\n",
       "      <th>75%</th>\n",
       "      <td>410.000000</td>\n",
       "      <td>220.000000</td>\n",
       "      <td>11.000000</td>\n",
       "      <td>190.000000</td>\n",
       "      <td>0.863636</td>\n",
       "      <td>2018.000000</td>\n",
       "      <td>2018.000000</td>\n",
       "      <td>428.000000</td>\n",
       "    </tr>\n",
       "    <tr>\n",
       "      <th>max</th>\n",
       "      <td>2399.000000</td>\n",
       "      <td>250.000000</td>\n",
       "      <td>17.000000</td>\n",
       "      <td>2149.000000</td>\n",
       "      <td>8.596000</td>\n",
       "      <td>2018.000000</td>\n",
       "      <td>2019.000000</td>\n",
       "      <td>872.000000</td>\n",
       "    </tr>\n",
       "  </tbody>\n",
       "</table>\n",
       "</div>"
      ],
      "text/plain": [
       "         Sale Price  Retail Price     Shoe Size        Profit      Profit %  \\\n",
       "count  75136.000000  75136.000000  75136.000000  75136.000000  75136.000000   \n",
       "mean     368.901605    221.369117      9.247065    147.532488      0.660732   \n",
       "std      145.005088      6.260955      2.376685    142.497467      0.628627   \n",
       "min      186.000000    220.000000      3.500000    -34.000000     -0.154545   \n",
       "25%      269.000000    220.000000      8.000000     49.000000      0.222727   \n",
       "50%      326.000000    220.000000      9.500000    106.000000      0.481818   \n",
       "75%      410.000000    220.000000     11.000000    190.000000      0.863636   \n",
       "max     2399.000000    250.000000     17.000000   2149.000000      8.596000   \n",
       "\n",
       "       Release Year     Sold Year  Days since release  \n",
       "count  75136.000000  75136.000000        75136.000000  \n",
       "mean    2017.348768   2018.016849          220.720094  \n",
       "std        0.525513      0.554583          243.103719  \n",
       "min     2016.000000   2017.000000          -59.000000  \n",
       "25%     2017.000000   2018.000000           14.000000  \n",
       "50%     2017.000000   2018.000000           82.000000  \n",
       "75%     2018.000000   2018.000000          428.000000  \n",
       "max     2018.000000   2019.000000          872.000000  "
      ]
     },
     "execution_count": 31,
     "metadata": {},
     "output_type": "execute_result"
    }
   ],
   "source": [
    "df2.describe()"
   ]
  },
  {
   "cell_type": "code",
   "execution_count": 32,
   "id": "f8de7c18",
   "metadata": {},
   "outputs": [
    {
     "data": {
      "image/png": "[encoded data removed]",
      "text/plain": [
       "<Figure size 432x288 with 1 Axes>"
      ]
     },
     "metadata": {
      "needs_background": "light"
     },
     "output_type": "display_data"
    }
   ],
   "source": [
    "# Create a scatterplot using matplotlib for another look at how the chosen variables plot against each other.\n",
    "\n",
    "df2.plot(x = 'Retail Price', y='Sale Price',style='o') # The style option creates a scatterplot; without it, we only have lines.\n",
    "plt.title('Retail Price vs Sale Price')  \n",
    "plt.xlabel('Retail Price')  \n",
    "plt.ylabel('Sale Price')  \n",
    "plt.show()"
   ]
  },
  {
   "cell_type": "code",
   "execution_count": 33,
   "id": "97b3ad46",
   "metadata": {},
   "outputs": [],
   "source": [
    "# Reshape the variables into NumPy arrays and put them into separate objects.\n",
    "X = df2['Retail Price'].values.reshape(-1,1)\n",
    "y = df2['Sale Price'].values.reshape(-1,1)"
   ]
  },
  {
   "cell_type": "code",
   "execution_count": 34,
   "id": "39341cef",
   "metadata": {},
   "outputs": [
    {
     "data": {
      "text/plain": [
       "array([[220],\n",
       "       [220],\n",
       "       [220],\n",
       "       ...,\n",
       "       [220],\n",
       "       [220],\n",
       "       [220]], dtype=int64)"
      ]
     },
     "execution_count": 34,
     "metadata": {},
     "output_type": "execute_result"
    }
   ],
   "source": [
    "X"
   ]
  },
  {
   "cell_type": "code",
   "execution_count": 35,
   "id": "16e54da3",
   "metadata": {},
   "outputs": [
    {
     "data": {
      "text/plain": [
       "array([[1097.],\n",
       "       [ 685.],\n",
       "       [ 690.],\n",
       "       ...,\n",
       "       [ 605.],\n",
       "       [ 650.],\n",
       "       [ 640.]])"
      ]
     },
     "execution_count": 35,
     "metadata": {},
     "output_type": "execute_result"
    }
   ],
   "source": [
    "y"
   ]
  },
  {
   "cell_type": "code",
   "execution_count": 36,
   "id": "8ff49f0c",
   "metadata": {},
   "outputs": [],
   "source": [
    "# Split data into a training set and a test set.  Using test_train_split\n",
    "X_train,X_test,y_train,y_test = train_test_split(X,y,test_size = 0.3,random_state = 0)"
   ]
  },
  {
   "cell_type": "code",
   "execution_count": 37,
   "id": "2e49c8fc",
   "metadata": {},
   "outputs": [],
   "source": [
    "### 4. Regression Analysis\n",
    "\n",
    "# Create regression object\n",
    "regression = LinearRegression()"
   ]
  },
  {
   "cell_type": "code",
   "execution_count": 38,
   "id": "5e6c93e7",
   "metadata": {},
   "outputs": [
    {
     "data": {
      "text/plain": [
       "LinearRegression()"
      ]
     },
     "execution_count": 38,
     "metadata": {},
     "output_type": "execute_result"
    }
   ],
   "source": [
    "# Fit the regression to the training set of each variable.  This trains the model.\n",
    "regression.fit(X_train, y_train)"
   ]
  },
  {
   "cell_type": "code",
   "execution_count": 39,
   "id": "09f45d89",
   "metadata": {},
   "outputs": [],
   "source": [
    "# Apply model to x_test data to predict y values\n",
    "y_predicted = regression.predict(X_test)"
   ]
  },
  {
   "cell_type": "code",
   "execution_count": 40,
   "id": "743898b9",
   "metadata": {},
   "outputs": [
    {
     "data": {
      "image/png": "[encoded data removed]",
      "text/plain": [
       "<Figure size 432x288 with 1 Axes>"
      ]
     },
     "metadata": {
      "needs_background": "light"
     },
     "output_type": "display_data"
    }
   ],
   "source": [
    "# Create a plot that shows the regression line from the model on the test set.\n",
    "plot_test = plt\n",
    "plot_test.scatter(X_test, y_test, color='gray', s = 15)\n",
    "plot_test.plot(X_test, y_predicted, color='red', linewidth =3)\n",
    "plot_test.title('Retail Price vs Sales Price (Test set)')\n",
    "plot_test.xlabel('Retail Price')\n",
    "plot_test.ylabel('Sale Price')\n",
    "plot_test.show()"
   ]
  },
  {
   "cell_type": "code",
   "execution_count": 41,
   "id": "5b8f50f5",
   "metadata": {},
   "outputs": [],
   "source": [
    "# Check the slope, MSE and R2 score.\n",
    "# Create objects that contain the model summary statistics.\n",
    "rmse = mean_squared_error(y_test, y_predicted)\n",
    "r2 = r2_score(y_test, y_predicted)"
   ]
  },
  {
   "cell_type": "code",
   "execution_count": 42,
   "id": "2cb7270a",
   "metadata": {},
   "outputs": [
    {
     "name": "stdout",
     "output_type": "stream",
     "text": [
      "Slope: [[9.65648877]]\n",
      "Mean squared error:  16860.42321492972\n",
      "R2 score:  0.1790267998634808\n"
     ]
    }
   ],
   "source": [
    "# Print the model summary statistics. This is where you evaluate the performance of the model.\n",
    "\n",
    "print('Slope:' ,regression.coef_)\n",
    "print('Mean squared error: ', rmse)\n",
    "print('R2 score: ', r2)"
   ]
  },
  {
   "cell_type": "markdown",
   "id": "566beb84",
   "metadata": {},
   "source": [
    "#### When looking at retail prices of 220 and higher the slope becomes positive.  Indicating that as retail price goes up so does sale price.  However, although the MSE has come down in comparison to running on the entire df and the R2 score is slightly higher they still both indicate that the model is not a good fit.  \n",
    "#### It appears that there is some other variable contributing to the fact that shoes with a retail price of 220 do not achieve a high sales price on the StockX platform. "
   ]
  },
  {
   "cell_type": "markdown",
   "id": "721c2e72",
   "metadata": {},
   "source": [
    "### Hypothesis 2:  Selling a sneaker within 6 months of release will give the highest sale price."
   ]
  },
  {
   "cell_type": "code",
   "execution_count": 43,
   "id": "76132908",
   "metadata": {},
   "outputs": [
    {
     "data": {
      "image/png": "[encoded data removed]",
      "text/plain": [
       "<Figure size 432x288 with 1 Axes>"
      ]
     },
     "metadata": {
      "needs_background": "light"
     },
     "output_type": "display_data"
    }
   ],
   "source": [
    "# Create a scatterplot using matplotlib for another look at how the chosen variables plot against each other.\n",
    "\n",
    "df.plot(x = 'Days since release', y='Sale Price',style='o') # The style option creates a scatterplot; without it, we only have lines.\n",
    "plt.title('Days since release vs Sale Price')  \n",
    "plt.xlabel('Days since release')  \n",
    "plt.ylabel('Sale Price')  \n",
    "plt.show()"
   ]
  },
  {
   "cell_type": "code",
   "execution_count": 44,
   "id": "be93b2db",
   "metadata": {},
   "outputs": [],
   "source": [
    "# Reshape the variables into NumPy arrays and put them into separate objects.\n",
    "\n",
    "X = df['Days since release'].values.reshape(-1,1)\n",
    "y = df['Sale Price'].values.reshape(-1,1)"
   ]
  },
  {
   "cell_type": "code",
   "execution_count": 45,
   "id": "8166dae2",
   "metadata": {},
   "outputs": [
    {
     "data": {
      "text/plain": [
       "array([[342],\n",
       "       [282],\n",
       "       [282],\n",
       "       ...,\n",
       "       [ 49],\n",
       "       [ 49],\n",
       "       [ 49]], dtype=int64)"
      ]
     },
     "execution_count": 45,
     "metadata": {},
     "output_type": "execute_result"
    }
   ],
   "source": [
    "X"
   ]
  },
  {
   "cell_type": "code",
   "execution_count": 46,
   "id": "b7d9fecc",
   "metadata": {},
   "outputs": [
    {
     "data": {
      "text/plain": [
       "array([[1097.],\n",
       "       [ 685.],\n",
       "       [ 690.],\n",
       "       ...,\n",
       "       [ 605.],\n",
       "       [ 650.],\n",
       "       [ 640.]])"
      ]
     },
     "execution_count": 46,
     "metadata": {},
     "output_type": "execute_result"
    }
   ],
   "source": [
    "y"
   ]
  },
  {
   "cell_type": "code",
   "execution_count": 47,
   "id": "872bb108",
   "metadata": {},
   "outputs": [],
   "source": [
    "# Split data into a training set and a test set.  Using test_train_split\n",
    "X_train, X_test, y_train, y_test = train_test_split(X,y,test_size = 0.3, random_state =0)"
   ]
  },
  {
   "cell_type": "markdown",
   "id": "c95cfd61",
   "metadata": {},
   "source": [
    "#### Regression Analysis"
   ]
  },
  {
   "cell_type": "code",
   "execution_count": 48,
   "id": "fb4997be",
   "metadata": {},
   "outputs": [
    {
     "data": {
      "text/plain": [
       "LinearRegression()"
      ]
     },
     "execution_count": 48,
     "metadata": {},
     "output_type": "execute_result"
    }
   ],
   "source": [
    "regression.fit(X_train, y_train)"
   ]
  },
  {
   "cell_type": "code",
   "execution_count": 49,
   "id": "8ddabf64",
   "metadata": {},
   "outputs": [],
   "source": [
    "y_predicted = regression.predict(X_test)"
   ]
  },
  {
   "cell_type": "code",
   "execution_count": 50,
   "id": "67b8f914",
   "metadata": {},
   "outputs": [
    {
     "data": {
      "image/png": "[encoded data removed]",
      "text/plain": [
       "<Figure size 432x288 with 1 Axes>"
      ]
     },
     "metadata": {
      "needs_background": "light"
     },
     "output_type": "display_data"
    }
   ],
   "source": [
    "# Create a plot that shows the regression line from the model on the test set.\n",
    "plot_test = plt\n",
    "plot_test.scatter(X_test, y_test, color='green', s = 15)\n",
    "plot_test.plot(X_test, y_predicted, color='red', linewidth =3)\n",
    "plot_test.title('Days since release vs Sales Price (Test set)')\n",
    "plot_test.xlabel('Days since release')\n",
    "plot_test.ylabel('Sale Price')\n",
    "plot_test.show()"
   ]
  },
  {
   "cell_type": "code",
   "execution_count": 51,
   "id": "72c3b70a",
   "metadata": {},
   "outputs": [],
   "source": [
    "# Check the slope, MSE and R2 score.\n",
    "# Create objects that contain the model summary statistics.\n",
    "rmse = mean_squared_error(y_test, y_predicted)\n",
    "r2 = r2_score(y_test, y_predicted)"
   ]
  },
  {
   "cell_type": "code",
   "execution_count": 52,
   "id": "1ccc66d5",
   "metadata": {},
   "outputs": [
    {
     "name": "stdout",
     "output_type": "stream",
     "text": [
      "Slope: [[-0.09416978]]\n",
      "Mean squared error:  63439.435432583254\n",
      "R2 score:  0.007985746146419448\n"
     ]
    }
   ],
   "source": [
    "# Check summary stats\n",
    "print('Slope:' ,regression.coef_)\n",
    "print('Mean squared error: ', rmse)\n",
    "print('R2 score: ', r2)"
   ]
  },
  {
   "cell_type": "code",
   "execution_count": 53,
   "id": "44e832e1",
   "metadata": {},
   "outputs": [
    {
     "data": {
      "text/html": [
       "<div>\n",
       "<style scoped>\n",
       "    .dataframe tbody tr th:only-of-type {\n",
       "        vertical-align: middle;\n",
       "    }\n",
       "\n",
       "    .dataframe tbody tr th {\n",
       "        vertical-align: top;\n",
       "    }\n",
       "\n",
       "    .dataframe thead th {\n",
       "        text-align: right;\n",
       "    }\n",
       "</style>\n",
       "<table border=\"1\" class=\"dataframe\">\n",
       "  <thead>\n",
       "    <tr style=\"text-align: right;\">\n",
       "      <th></th>\n",
       "      <th>Actual</th>\n",
       "      <th>Predicted</th>\n",
       "    </tr>\n",
       "  </thead>\n",
       "  <tbody>\n",
       "    <tr>\n",
       "      <th>0</th>\n",
       "      <td>249.0</td>\n",
       "      <td>405.813086</td>\n",
       "    </tr>\n",
       "    <tr>\n",
       "      <th>1</th>\n",
       "      <td>290.0</td>\n",
       "      <td>405.813086</td>\n",
       "    </tr>\n",
       "    <tr>\n",
       "      <th>2</th>\n",
       "      <td>288.0</td>\n",
       "      <td>405.813086</td>\n",
       "    </tr>\n",
       "    <tr>\n",
       "      <th>3</th>\n",
       "      <td>488.0</td>\n",
       "      <td>405.813086</td>\n",
       "    </tr>\n",
       "    <tr>\n",
       "      <th>4</th>\n",
       "      <td>549.0</td>\n",
       "      <td>296.619320</td>\n",
       "    </tr>\n",
       "    <tr>\n",
       "      <th>5</th>\n",
       "      <td>384.0</td>\n",
       "      <td>405.813086</td>\n",
       "    </tr>\n",
       "    <tr>\n",
       "      <th>6</th>\n",
       "      <td>2100.0</td>\n",
       "      <td>515.006852</td>\n",
       "    </tr>\n",
       "    <tr>\n",
       "      <th>7</th>\n",
       "      <td>269.0</td>\n",
       "      <td>405.813086</td>\n",
       "    </tr>\n",
       "    <tr>\n",
       "      <th>8</th>\n",
       "      <td>326.0</td>\n",
       "      <td>405.813086</td>\n",
       "    </tr>\n",
       "    <tr>\n",
       "      <th>9</th>\n",
       "      <td>252.0</td>\n",
       "      <td>405.813086</td>\n",
       "    </tr>\n",
       "    <tr>\n",
       "      <th>10</th>\n",
       "      <td>309.0</td>\n",
       "      <td>405.813086</td>\n",
       "    </tr>\n",
       "    <tr>\n",
       "      <th>11</th>\n",
       "      <td>377.0</td>\n",
       "      <td>405.813086</td>\n",
       "    </tr>\n",
       "    <tr>\n",
       "      <th>12</th>\n",
       "      <td>390.0</td>\n",
       "      <td>405.813086</td>\n",
       "    </tr>\n",
       "    <tr>\n",
       "      <th>13</th>\n",
       "      <td>420.0</td>\n",
       "      <td>405.813086</td>\n",
       "    </tr>\n",
       "    <tr>\n",
       "      <th>14</th>\n",
       "      <td>365.0</td>\n",
       "      <td>405.813086</td>\n",
       "    </tr>\n",
       "    <tr>\n",
       "      <th>15</th>\n",
       "      <td>443.0</td>\n",
       "      <td>405.813086</td>\n",
       "    </tr>\n",
       "    <tr>\n",
       "      <th>16</th>\n",
       "      <td>325.0</td>\n",
       "      <td>405.813086</td>\n",
       "    </tr>\n",
       "    <tr>\n",
       "      <th>17</th>\n",
       "      <td>564.0</td>\n",
       "      <td>296.619320</td>\n",
       "    </tr>\n",
       "    <tr>\n",
       "      <th>18</th>\n",
       "      <td>435.0</td>\n",
       "      <td>405.813086</td>\n",
       "    </tr>\n",
       "    <tr>\n",
       "      <th>19</th>\n",
       "      <td>300.0</td>\n",
       "      <td>405.813086</td>\n",
       "    </tr>\n",
       "    <tr>\n",
       "      <th>20</th>\n",
       "      <td>1180.0</td>\n",
       "      <td>515.006852</td>\n",
       "    </tr>\n",
       "    <tr>\n",
       "      <th>21</th>\n",
       "      <td>321.0</td>\n",
       "      <td>405.813086</td>\n",
       "    </tr>\n",
       "    <tr>\n",
       "      <th>22</th>\n",
       "      <td>1012.0</td>\n",
       "      <td>515.006852</td>\n",
       "    </tr>\n",
       "    <tr>\n",
       "      <th>23</th>\n",
       "      <td>299.0</td>\n",
       "      <td>405.813086</td>\n",
       "    </tr>\n",
       "    <tr>\n",
       "      <th>24</th>\n",
       "      <td>270.0</td>\n",
       "      <td>405.813086</td>\n",
       "    </tr>\n",
       "    <tr>\n",
       "      <th>25</th>\n",
       "      <td>388.0</td>\n",
       "      <td>587.802696</td>\n",
       "    </tr>\n",
       "    <tr>\n",
       "      <th>26</th>\n",
       "      <td>265.0</td>\n",
       "      <td>405.813086</td>\n",
       "    </tr>\n",
       "    <tr>\n",
       "      <th>27</th>\n",
       "      <td>840.0</td>\n",
       "      <td>733.394384</td>\n",
       "    </tr>\n",
       "    <tr>\n",
       "      <th>28</th>\n",
       "      <td>500.0</td>\n",
       "      <td>478.608930</td>\n",
       "    </tr>\n",
       "    <tr>\n",
       "      <th>29</th>\n",
       "      <td>330.0</td>\n",
       "      <td>478.608930</td>\n",
       "    </tr>\n",
       "  </tbody>\n",
       "</table>\n",
       "</div>"
      ],
      "text/plain": [
       "    Actual   Predicted\n",
       "0    249.0  405.813086\n",
       "1    290.0  405.813086\n",
       "2    288.0  405.813086\n",
       "3    488.0  405.813086\n",
       "4    549.0  296.619320\n",
       "5    384.0  405.813086\n",
       "6   2100.0  515.006852\n",
       "7    269.0  405.813086\n",
       "8    326.0  405.813086\n",
       "9    252.0  405.813086\n",
       "10   309.0  405.813086\n",
       "11   377.0  405.813086\n",
       "12   390.0  405.813086\n",
       "13   420.0  405.813086\n",
       "14   365.0  405.813086\n",
       "15   443.0  405.813086\n",
       "16   325.0  405.813086\n",
       "17   564.0  296.619320\n",
       "18   435.0  405.813086\n",
       "19   300.0  405.813086\n",
       "20  1180.0  515.006852\n",
       "21   321.0  405.813086\n",
       "22  1012.0  515.006852\n",
       "23   299.0  405.813086\n",
       "24   270.0  405.813086\n",
       "25   388.0  587.802696\n",
       "26   265.0  405.813086\n",
       "27   840.0  733.394384\n",
       "28   500.0  478.608930\n",
       "29   330.0  478.608930"
      ]
     },
     "execution_count": 53,
     "metadata": {},
     "output_type": "execute_result"
    }
   ],
   "source": [
    "# Create a dataframe comparing the actual and predicted values of y.\n",
    "\n",
    "data1 = pd.DataFrame({'Actual': y_test.flatten(), 'Predicted': y_predicted.flatten()})\n",
    "data.head(30)"
   ]
  },
  {
   "cell_type": "markdown",
   "id": "51cd58d7",
   "metadata": {},
   "source": [
    "#### Again the model is not a good fit, the MSE is large and the R2 score is practically 0.  The slope is almost flat at -0.09 indicating no relationship between the variables."
   ]
  },
  {
   "cell_type": "markdown",
   "id": "1dac75d0",
   "metadata": {},
   "source": [
    "#### Try on 6 months and less"
   ]
  },
  {
   "cell_type": "code",
   "execution_count": 54,
   "id": "b65b027d",
   "metadata": {},
   "outputs": [],
   "source": [
    "df3=df[df['Days since release']<=183]"
   ]
  },
  {
   "cell_type": "code",
   "execution_count": 55,
   "id": "f543fd37",
   "metadata": {},
   "outputs": [
    {
     "data": {
      "text/html": [
       "<div>\n",
       "<style scoped>\n",
       "    .dataframe tbody tr th:only-of-type {\n",
       "        vertical-align: middle;\n",
       "    }\n",
       "\n",
       "    .dataframe tbody tr th {\n",
       "        vertical-align: top;\n",
       "    }\n",
       "\n",
       "    .dataframe thead th {\n",
       "        text-align: right;\n",
       "    }\n",
       "</style>\n",
       "<table border=\"1\" class=\"dataframe\">\n",
       "  <thead>\n",
       "    <tr style=\"text-align: right;\">\n",
       "      <th></th>\n",
       "      <th>Order Date</th>\n",
       "      <th>Brand</th>\n",
       "      <th>Sneaker Name</th>\n",
       "      <th>Sale Price</th>\n",
       "      <th>Retail Price</th>\n",
       "      <th>Release Date</th>\n",
       "      <th>Shoe Size</th>\n",
       "      <th>Buyer Region</th>\n",
       "      <th>Profit</th>\n",
       "      <th>Profit %</th>\n",
       "      <th>Release Year</th>\n",
       "      <th>Sold Year</th>\n",
       "      <th>Days since release</th>\n",
       "    </tr>\n",
       "  </thead>\n",
       "  <tbody>\n",
       "    <tr>\n",
       "      <th>7</th>\n",
       "      <td>2017-09-01</td>\n",
       "      <td>Yeezy</td>\n",
       "      <td>Adidas-Yeezy-Boost-350-V2-Cream-White</td>\n",
       "      <td>460.0</td>\n",
       "      <td>220</td>\n",
       "      <td>2017-04-29</td>\n",
       "      <td>10.0</td>\n",
       "      <td>New York</td>\n",
       "      <td>240.0</td>\n",
       "      <td>1.090909</td>\n",
       "      <td>2017</td>\n",
       "      <td>2017</td>\n",
       "      <td>125</td>\n",
       "    </tr>\n",
       "    <tr>\n",
       "      <th>8</th>\n",
       "      <td>2017-09-01</td>\n",
       "      <td>Yeezy</td>\n",
       "      <td>Adidas-Yeezy-Boost-350-V2-Cream-White</td>\n",
       "      <td>465.0</td>\n",
       "      <td>220</td>\n",
       "      <td>2017-04-29</td>\n",
       "      <td>11.0</td>\n",
       "      <td>Kansas</td>\n",
       "      <td>245.0</td>\n",
       "      <td>1.113636</td>\n",
       "      <td>2017</td>\n",
       "      <td>2017</td>\n",
       "      <td>125</td>\n",
       "    </tr>\n",
       "    <tr>\n",
       "      <th>9</th>\n",
       "      <td>2017-09-01</td>\n",
       "      <td>Yeezy</td>\n",
       "      <td>Adidas-Yeezy-Boost-350-V2-Cream-White</td>\n",
       "      <td>465.0</td>\n",
       "      <td>220</td>\n",
       "      <td>2017-04-29</td>\n",
       "      <td>11.0</td>\n",
       "      <td>Florida</td>\n",
       "      <td>245.0</td>\n",
       "      <td>1.113636</td>\n",
       "      <td>2017</td>\n",
       "      <td>2017</td>\n",
       "      <td>125</td>\n",
       "    </tr>\n",
       "    <tr>\n",
       "      <th>10</th>\n",
       "      <td>2017-09-01</td>\n",
       "      <td>Yeezy</td>\n",
       "      <td>Adidas-Yeezy-Boost-350-V2-Cream-White</td>\n",
       "      <td>515.0</td>\n",
       "      <td>220</td>\n",
       "      <td>2017-04-29</td>\n",
       "      <td>11.5</td>\n",
       "      <td>New Jersey</td>\n",
       "      <td>295.0</td>\n",
       "      <td>1.340909</td>\n",
       "      <td>2017</td>\n",
       "      <td>2017</td>\n",
       "      <td>125</td>\n",
       "    </tr>\n",
       "    <tr>\n",
       "      <th>11</th>\n",
       "      <td>2017-09-01</td>\n",
       "      <td>Yeezy</td>\n",
       "      <td>Adidas-Yeezy-Boost-350-V2-Cream-White</td>\n",
       "      <td>473.0</td>\n",
       "      <td>220</td>\n",
       "      <td>2017-04-29</td>\n",
       "      <td>10.0</td>\n",
       "      <td>Texas</td>\n",
       "      <td>253.0</td>\n",
       "      <td>1.150000</td>\n",
       "      <td>2017</td>\n",
       "      <td>2017</td>\n",
       "      <td>125</td>\n",
       "    </tr>\n",
       "  </tbody>\n",
       "</table>\n",
       "</div>"
      ],
      "text/plain": [
       "   Order Date   Brand                           Sneaker Name  Sale Price  \\\n",
       "7  2017-09-01   Yeezy  Adidas-Yeezy-Boost-350-V2-Cream-White       460.0   \n",
       "8  2017-09-01   Yeezy  Adidas-Yeezy-Boost-350-V2-Cream-White       465.0   \n",
       "9  2017-09-01   Yeezy  Adidas-Yeezy-Boost-350-V2-Cream-White       465.0   \n",
       "10 2017-09-01   Yeezy  Adidas-Yeezy-Boost-350-V2-Cream-White       515.0   \n",
       "11 2017-09-01   Yeezy  Adidas-Yeezy-Boost-350-V2-Cream-White       473.0   \n",
       "\n",
       "    Retail Price Release Date  Shoe Size Buyer Region  Profit  Profit %  \\\n",
       "7            220   2017-04-29       10.0     New York   240.0  1.090909   \n",
       "8            220   2017-04-29       11.0       Kansas   245.0  1.113636   \n",
       "9            220   2017-04-29       11.0      Florida   245.0  1.113636   \n",
       "10           220   2017-04-29       11.5   New Jersey   295.0  1.340909   \n",
       "11           220   2017-04-29       10.0        Texas   253.0  1.150000   \n",
       "\n",
       "    Release Year  Sold Year  Days since release  \n",
       "7           2017       2017                 125  \n",
       "8           2017       2017                 125  \n",
       "9           2017       2017                 125  \n",
       "10          2017       2017                 125  \n",
       "11          2017       2017                 125  "
      ]
     },
     "execution_count": 55,
     "metadata": {},
     "output_type": "execute_result"
    }
   ],
   "source": [
    "df3.head()"
   ]
  },
  {
   "cell_type": "code",
   "execution_count": 56,
   "id": "4ea40b40",
   "metadata": {},
   "outputs": [
    {
     "data": {
      "image/png": "[encoded data removed]",
      "text/plain": [
       "<Figure size 432x288 with 1 Axes>"
      ]
     },
     "metadata": {
      "needs_background": "light"
     },
     "output_type": "display_data"
    }
   ],
   "source": [
    "# Create a scatterplot using matplotlib for another look at how the chosen variables plot against each other.\n",
    "\n",
    "df3.plot(x = 'Days since release', y='Sale Price',style='o') # The style option creates a scatterplot; without it, we only have lines.\n",
    "plt.title('Days since release vs Sale Price')  \n",
    "plt.xlabel('Days since release')  \n",
    "plt.ylabel('Sale Price')  \n",
    "plt.show()"
   ]
  },
  {
   "cell_type": "code",
   "execution_count": 57,
   "id": "5ca8cdde",
   "metadata": {},
   "outputs": [],
   "source": [
    "# Reshape the variables into NumPy arrays and put them into separate objects.\n",
    "\n",
    "X = df3['Days since release'].values.reshape(-1,1)\n",
    "y = df3['Sale Price'].values.reshape(-1,1)"
   ]
  },
  {
   "cell_type": "code",
   "execution_count": 58,
   "id": "1132473a",
   "metadata": {},
   "outputs": [],
   "source": [
    "# Split data into a training set and a test set.\n",
    "\n",
    "X_train, X_test, y_train, y_test = train_test_split(X, y, test_size=0.3, random_state=0)"
   ]
  },
  {
   "cell_type": "code",
   "execution_count": 59,
   "id": "9d0eef23",
   "metadata": {},
   "outputs": [
    {
     "data": {
      "text/plain": [
       "LinearRegression()"
      ]
     },
     "execution_count": 59,
     "metadata": {},
     "output_type": "execute_result"
    }
   ],
   "source": [
    "# Fit the regression object onto the training set.\n",
    "\n",
    "regression.fit(X_train, y_train)"
   ]
  },
  {
   "cell_type": "code",
   "execution_count": 60,
   "id": "59f93acf",
   "metadata": {},
   "outputs": [],
   "source": [
    "# Predict the values of y using X.\n",
    "\n",
    "y_predicted = regression.predict(X_test)"
   ]
  },
  {
   "cell_type": "code",
   "execution_count": 61,
   "id": "46a8ddec",
   "metadata": {},
   "outputs": [
    {
     "data": {
      "image/png": "[encoded data removed]",
      "text/plain": [
       "<Figure size 432x288 with 1 Axes>"
      ]
     },
     "metadata": {
      "needs_background": "light"
     },
     "output_type": "display_data"
    }
   ],
   "source": [
    "# Create a plot that shows the regression line from the model on the test set.\n",
    "\n",
    "plot_test = plt\n",
    "plot_test.scatter(X_test, y_test, color='green', s = 15)\n",
    "plot_test.plot(X_test, y_predicted, color='red', linewidth =3)\n",
    "plot_test.title('Days since release vs Sale Price (Test set)')\n",
    "plot_test.xlabel('Days since release')\n",
    "plot_test.ylabel('Sale Price')\n",
    "plot_test.show()"
   ]
  },
  {
   "cell_type": "code",
   "execution_count": 62,
   "id": "aa786a22",
   "metadata": {},
   "outputs": [
    {
     "name": "stdout",
     "output_type": "stream",
     "text": [
      "Slope: [[0.27089549]]\n",
      "Mean squared error:  53928.03119301985\n",
      "R2 score:  0.0027404708619828133\n"
     ]
    }
   ],
   "source": [
    "# Create objects that contain the model summary statistics.\n",
    "\n",
    "rmse = mean_squared_error(y_test, y_predicted) # This is the mean squared error\n",
    "r2 = r2_score(y_test, y_predicted) # This is the R2 score. \n",
    "\n",
    "# Print the model summary statistics. This is where you evaluate the performance of the model.\n",
    "\n",
    "print('Slope:' ,regression.coef_)\n",
    "print('Mean squared error: ', rmse)\n",
    "print('R2 score: ', r2)"
   ]
  },
  {
   "cell_type": "markdown",
   "id": "52afed35",
   "metadata": {},
   "source": [
    "#### In the first six months after release there is a positive relationship between the variables, indicating that the sale price increases as the days since release increase.  However due to the high MSE and low R2 score, this model is not viable for making predictions."
   ]
  },
  {
   "cell_type": "markdown",
   "id": "1ba7c6af",
   "metadata": {},
   "source": [
    "### 5. Regression analysis by brand"
   ]
  },
  {
   "cell_type": "code",
   "execution_count": 66,
   "id": "e81b6831",
   "metadata": {},
   "outputs": [],
   "source": [
    "# Create dfs by brand\n",
    "\n",
    "yeezy = df[df['Brand']==' Yeezy']\n",
    "off_white = df[df['Brand']=='Off-White']"
   ]
  },
  {
   "cell_type": "code",
   "execution_count": 64,
   "id": "3dc0d89d",
   "metadata": {},
   "outputs": [
    {
     "data": {
      "text/plain": [
       "(72162, 13)"
      ]
     },
     "execution_count": 64,
     "metadata": {},
     "output_type": "execute_result"
    }
   ],
   "source": [
    "yeezy.shape"
   ]
  },
  {
   "cell_type": "code",
   "execution_count": 67,
   "id": "4ae2e71a",
   "metadata": {},
   "outputs": [
    {
     "data": {
      "text/plain": [
       "(27794, 13)"
      ]
     },
     "execution_count": 67,
     "metadata": {},
     "output_type": "execute_result"
    }
   ],
   "source": [
    "off_white.shape"
   ]
  },
  {
   "cell_type": "markdown",
   "id": "94e917b7",
   "metadata": {},
   "source": [
    "#### Retail Price vs Sale Price"
   ]
  },
  {
   "cell_type": "code",
   "execution_count": 68,
   "id": "99b5009c",
   "metadata": {},
   "outputs": [
    {
     "data": {
      "image/png": "[encoded data removed]",
      "text/plain": [
       "<Figure size 432x288 with 1 Axes>"
      ]
     },
     "metadata": {
      "needs_background": "light"
     },
     "output_type": "display_data"
    }
   ],
   "source": [
    "# Yeezy data frame\n",
    "# Create a scatterplot using matplotlib for another look at how the chosen variables plot against each other.\n",
    "\n",
    "yeezy.plot(x = 'Retail Price', y='Sale Price',style='o') # The style option creates a scatterplot; without it, we only have lines.\n",
    "plt.title('Retail Price vs Sale Price')  \n",
    "plt.xlabel('Retail Price')  \n",
    "plt.ylabel('Sale Price')  \n",
    "plt.show()"
   ]
  },
  {
   "cell_type": "code",
   "execution_count": 78,
   "id": "73ce3c34",
   "metadata": {},
   "outputs": [],
   "source": [
    "# Reshape the variables into NumPy arrays and put them into separate objects.\n",
    "\n",
    "X = yeezy['Retail Price'].values.reshape(-1,1)\n",
    "y = yeezy['Sale Price'].values.reshape(-1,1)"
   ]
  },
  {
   "cell_type": "code",
   "execution_count": 79,
   "id": "b591e6c6",
   "metadata": {},
   "outputs": [
    {
     "data": {
      "text/plain": [
       "array([[220],\n",
       "       [220],\n",
       "       [220],\n",
       "       ...,\n",
       "       [220],\n",
       "       [220],\n",
       "       [220]], dtype=int64)"
      ]
     },
     "execution_count": 79,
     "metadata": {},
     "output_type": "execute_result"
    }
   ],
   "source": [
    "X"
   ]
  },
  {
   "cell_type": "code",
   "execution_count": 72,
   "id": "022cace4",
   "metadata": {},
   "outputs": [
    {
     "data": {
      "text/plain": [
       "array([[1097.],\n",
       "       [ 685.],\n",
       "       [ 690.],\n",
       "       ...,\n",
       "       [ 605.],\n",
       "       [ 650.],\n",
       "       [ 640.]])"
      ]
     },
     "execution_count": 72,
     "metadata": {},
     "output_type": "execute_result"
    }
   ],
   "source": [
    "y"
   ]
  },
  {
   "cell_type": "code",
   "execution_count": 81,
   "id": "d84ae2f7",
   "metadata": {},
   "outputs": [],
   "source": [
    "# Split data into a training set and a test set.\n",
    "\n",
    "X_train, X_test, y_train, y_test = train_test_split(X, y, test_size=0.3, random_state=0)"
   ]
  },
  {
   "cell_type": "code",
   "execution_count": 82,
   "id": "5433bb59",
   "metadata": {},
   "outputs": [
    {
     "data": {
      "text/plain": [
       "LinearRegression()"
      ]
     },
     "execution_count": 82,
     "metadata": {},
     "output_type": "execute_result"
    }
   ],
   "source": [
    "# Fit the regression object onto the training set.\n",
    "\n",
    "regression.fit(X_train, y_train)"
   ]
  },
  {
   "cell_type": "code",
   "execution_count": 83,
   "id": "74cd37c6",
   "metadata": {},
   "outputs": [],
   "source": [
    "# Predict the values of y using X.\n",
    "\n",
    "y_predicted = regression.predict(X_test)"
   ]
  },
  {
   "cell_type": "code",
   "execution_count": 84,
   "id": "89f69e9d",
   "metadata": {},
   "outputs": [
    {
     "data": {
      "image/png": "[encoded data removed]",
      "text/plain": [
       "<Figure size 432x288 with 1 Axes>"
      ]
     },
     "metadata": {
      "needs_background": "light"
     },
     "output_type": "display_data"
    }
   ],
   "source": [
    "# Create a plot that shows the regression line from the model on the test set.\n",
    "\n",
    "plot_test = plt\n",
    "plot_test.scatter(X_test, y_test, color='green', s = 15)\n",
    "plot_test.plot(X_test, y_predicted, color='red', linewidth =3)\n",
    "plot_test.title('Yeezy Retail Price vs Sale Price (Test set)')\n",
    "plot_test.xlabel('Retail Price')\n",
    "plot_test.ylabel('Sale Price')\n",
    "plot_test.show()"
   ]
  },
  {
   "cell_type": "code",
   "execution_count": 85,
   "id": "835b4e1c",
   "metadata": {},
   "outputs": [
    {
     "name": "stdout",
     "output_type": "stream",
     "text": [
      "Slope: [[-34.01497761]]\n",
      "Mean squared error:  17542.511429039427\n",
      "R2 score:  0.1628441713134835\n"
     ]
    }
   ],
   "source": [
    "# Create objects that contain the model summary statistics.\n",
    "\n",
    "rmse = mean_squared_error(y_test, y_predicted) # This is the mean squared error\n",
    "r2 = r2_score(y_test, y_predicted) # This is the R2 score. \n",
    "\n",
    "# Print the model summary statistics. This is where you evaluate the performance of the model.\n",
    "\n",
    "print('Slope:' ,regression.coef_)\n",
    "print('Mean squared error: ', rmse)\n",
    "print('R2 score: ', r2)"
   ]
  },
  {
   "cell_type": "markdown",
   "id": "a6389164",
   "metadata": {},
   "source": [
    "#### The negative slope here of -34.01 indicates a negative relationship between the two variables, when it comes to Yeezy sneakers.  Meaning that as the retail price rises, sale price decreases.  However, the high MSE and the low R2 score show that the linear regression model isn't a good fit and won't be viable for predicting outcomes."
   ]
  },
  {
   "cell_type": "code",
   "execution_count": 86,
   "id": "65e01959",
   "metadata": {},
   "outputs": [
    {
     "data": {
      "image/png": "[encoded data removed]",
      "text/plain": [
       "<Figure size 432x288 with 1 Axes>"
      ]
     },
     "metadata": {
      "needs_background": "light"
     },
     "output_type": "display_data"
    }
   ],
   "source": [
    "# Off White data frame\n",
    "# Create a scatterplot using matplotlib for another look at how the chosen variables plot against each other.\n",
    "\n",
    "off_white.plot(x = 'Retail Price', y='Sale Price',style='o') # The style option creates a scatterplot; without it, we only have lines.\n",
    "plt.title('Retail Price vs Sale Price')  \n",
    "plt.xlabel('Retail Price')  \n",
    "plt.ylabel('Sale Price')  \n",
    "plt.show()"
   ]
  },
  {
   "cell_type": "code",
   "execution_count": 87,
   "id": "4e3aa4ac",
   "metadata": {},
   "outputs": [],
   "source": [
    "# Reshape the variables into NumPy arrays and put them into separate objects.\n",
    "\n",
    "X = off_white['Retail Price'].values.reshape(-1,1)\n",
    "y = off_white['Sale Price'].values.reshape(-1,1)"
   ]
  },
  {
   "cell_type": "code",
   "execution_count": 88,
   "id": "c1f72363",
   "metadata": {},
   "outputs": [],
   "source": [
    "# Split data into a training set and a test set.\n",
    "\n",
    "X_train, X_test, y_train, y_test = train_test_split(X, y, test_size=0.3, random_state=0)"
   ]
  },
  {
   "cell_type": "code",
   "execution_count": 89,
   "id": "0e07e4a5",
   "metadata": {},
   "outputs": [
    {
     "data": {
      "text/plain": [
       "LinearRegression()"
      ]
     },
     "execution_count": 89,
     "metadata": {},
     "output_type": "execute_result"
    }
   ],
   "source": [
    "# Fit the regression object onto the training set.\n",
    "\n",
    "regression.fit(X_train, y_train)"
   ]
  },
  {
   "cell_type": "code",
   "execution_count": 90,
   "id": "e1abac2d",
   "metadata": {},
   "outputs": [],
   "source": [
    "# Predict the values of y using X.\n",
    "\n",
    "y_predicted = regression.predict(X_test)"
   ]
  },
  {
   "cell_type": "code",
   "execution_count": 92,
   "id": "5f385de6",
   "metadata": {},
   "outputs": [
    {
     "data": {
      "image/png": "[encoded data removed]",
      "text/plain": [
       "<Figure size 432x288 with 1 Axes>"
      ]
     },
     "metadata": {
      "needs_background": "light"
     },
     "output_type": "display_data"
    }
   ],
   "source": [
    "# Create a plot that shows the regression line from the model on the test set.\n",
    "\n",
    "plot_test = plt\n",
    "plot_test.scatter(X_test, y_test, color='green', s = 15)\n",
    "plot_test.plot(X_test, y_predicted, color='red', linewidth =3)\n",
    "plot_test.title('Off White Retail Price vs Sale Price (Test set)')\n",
    "plot_test.xlabel('Retail Price')\n",
    "plot_test.ylabel('Sale Price')\n",
    "plot_test.show()"
   ]
  },
  {
   "cell_type": "code",
   "execution_count": 93,
   "id": "c796790d",
   "metadata": {},
   "outputs": [
    {
     "name": "stdout",
     "output_type": "stream",
     "text": [
      "Slope: [[0.83272616]]\n",
      "Mean squared error:  17542.511429039427\n",
      "R2 score:  0.1628441713134835\n"
     ]
    }
   ],
   "source": [
    "# Print the model summary statistics. This is where you evaluate the performance of the model.\n",
    "\n",
    "print('Slope:' ,regression.coef_)\n",
    "print('Mean squared error: ', rmse)\n",
    "print('R2 score: ', r2)"
   ]
  },
  {
   "cell_type": "markdown",
   "id": "04e5d918",
   "metadata": {},
   "source": [
    "#### For Off White sneakers retail price is less of a factor when determining sale price as the slope is very small.  From performing the regression on the individual brands we can see that Yeezy is driving the negative relationship on the whole data set."
   ]
  },
  {
   "cell_type": "markdown",
   "id": "599ba68e",
   "metadata": {},
   "source": [
    "#### Days since release vs sale price"
   ]
  },
  {
   "cell_type": "code",
   "execution_count": 95,
   "id": "a1736d25",
   "metadata": {},
   "outputs": [
    {
     "data": {
      "image/png": "[encoded data removed]",
      "text/plain": [
       "<Figure size 432x288 with 1 Axes>"
      ]
     },
     "metadata": {
      "needs_background": "light"
     },
     "output_type": "display_data"
    }
   ],
   "source": [
    "# Yeezy data frame\n",
    "# Create a scatterplot using matplotlib for another look at how the chosen variables plot against each other.\n",
    "\n",
    "yeezy.plot(x = 'Days since release', y='Sale Price',style='o') # The style option creates a scatterplot; without it, we only have lines.\n",
    "plt.title('Yeezy Days since release vs Sale Price')  \n",
    "plt.xlabel('Days since release')  \n",
    "plt.ylabel('Sale Price')  \n",
    "plt.show()"
   ]
  },
  {
   "cell_type": "code",
   "execution_count": 96,
   "id": "620b4e99",
   "metadata": {},
   "outputs": [],
   "source": [
    "# Reshape the variables into NumPy arrays and put them into separate objects.\n",
    "\n",
    "X = yeezy['Days since release'].values.reshape(-1,1)\n",
    "y = yeezy['Sale Price'].values.reshape(-1,1)"
   ]
  },
  {
   "cell_type": "code",
   "execution_count": 97,
   "id": "94ba93f6",
   "metadata": {},
   "outputs": [],
   "source": [
    "# Split data into a training set and a test set.\n",
    "\n",
    "X_train, X_test, y_train, y_test = train_test_split(X, y, test_size=0.3, random_state=0)"
   ]
  },
  {
   "cell_type": "code",
   "execution_count": 98,
   "id": "d86f0804",
   "metadata": {},
   "outputs": [
    {
     "data": {
      "text/plain": [
       "LinearRegression()"
      ]
     },
     "execution_count": 98,
     "metadata": {},
     "output_type": "execute_result"
    }
   ],
   "source": [
    "# Fit the regression object onto the training set.\n",
    "\n",
    "regression.fit(X_train, y_train)"
   ]
  },
  {
   "cell_type": "code",
   "execution_count": 99,
   "id": "cce6a779",
   "metadata": {},
   "outputs": [],
   "source": [
    "# Predict the values of y using X.\n",
    "\n",
    "y_predicted = regression.predict(X_test)"
   ]
  },
  {
   "cell_type": "code",
   "execution_count": 100,
   "id": "d1b8db23",
   "metadata": {},
   "outputs": [
    {
     "data": {
      "image/png": "[encoded data removed]",
      "text/plain": [
       "<Figure size 432x288 with 1 Axes>"
      ]
     },
     "metadata": {
      "needs_background": "light"
     },
     "output_type": "display_data"
    }
   ],
   "source": [
    "# Create a plot that shows the regression line from the model on the test set.\n",
    "\n",
    "plot_test = plt\n",
    "plot_test.scatter(X_test, y_test, color='green', s = 15)\n",
    "plot_test.plot(X_test, y_predicted, color='red', linewidth =3)\n",
    "plot_test.title('Yeezy Days since release vs Sale Price (Test set)')\n",
    "plot_test.xlabel('Days since release')\n",
    "plot_test.ylabel('Sale Price')\n",
    "plot_test.show()"
   ]
  },
  {
   "cell_type": "code",
   "execution_count": 101,
   "id": "300e106a",
   "metadata": {},
   "outputs": [
    {
     "name": "stdout",
     "output_type": "stream",
     "text": [
      "Slope: [[0.06212673]]\n",
      "Mean squared error:  17542.511429039427\n",
      "R2 score:  0.1628441713134835\n"
     ]
    }
   ],
   "source": [
    "# Print the model summary statistics. This is where you evaluate the performance of the model.\n",
    "\n",
    "print('Slope:' ,regression.coef_)\n",
    "print('Mean squared error: ', rmse)\n",
    "print('R2 score: ', r2)"
   ]
  },
  {
   "cell_type": "code",
   "execution_count": 102,
   "id": "559902b6",
   "metadata": {},
   "outputs": [
    {
     "data": {
      "image/png": "[encoded data removed]",
      "text/plain": [
       "<Figure size 432x288 with 1 Axes>"
      ]
     },
     "metadata": {
      "needs_background": "light"
     },
     "output_type": "display_data"
    }
   ],
   "source": [
    "# Off White data frame\n",
    "# Create a scatterplot using matplotlib for another look at how the chosen variables plot against each other.\n",
    "\n",
    "off_white.plot(x = 'Days since release', y='Sale Price',style='o') # The style option creates a scatterplot; without it, we only have lines.\n",
    "plt.title('Off White Days since release vs Sale Price')  \n",
    "plt.xlabel('Days since release')  \n",
    "plt.ylabel('Sale Price')  \n",
    "plt.show()"
   ]
  },
  {
   "cell_type": "code",
   "execution_count": 103,
   "id": "c4073e48",
   "metadata": {},
   "outputs": [],
   "source": [
    "# Reshape the variables into NumPy arrays and put them into separate objects.\n",
    "\n",
    "X = off_white['Days since release'].values.reshape(-1,1)\n",
    "y = off_white['Sale Price'].values.reshape(-1,1)"
   ]
  },
  {
   "cell_type": "code",
   "execution_count": 104,
   "id": "ca2c921d",
   "metadata": {},
   "outputs": [],
   "source": [
    "# Split data into a training set and a test set.\n",
    "\n",
    "X_train, X_test, y_train, y_test = train_test_split(X, y, test_size=0.3, random_state=0)"
   ]
  },
  {
   "cell_type": "code",
   "execution_count": 105,
   "id": "b149137b",
   "metadata": {},
   "outputs": [
    {
     "data": {
      "text/plain": [
       "LinearRegression()"
      ]
     },
     "execution_count": 105,
     "metadata": {},
     "output_type": "execute_result"
    }
   ],
   "source": [
    "# Fit the regression object onto the training set.\n",
    "\n",
    "regression.fit(X_train, y_train)"
   ]
  },
  {
   "cell_type": "code",
   "execution_count": 106,
   "id": "5aaed3a2",
   "metadata": {},
   "outputs": [],
   "source": [
    "# Predict the values of y using X.\n",
    "\n",
    "y_predicted = regression.predict(X_test)"
   ]
  },
  {
   "cell_type": "code",
   "execution_count": 107,
   "id": "484f3bb6",
   "metadata": {},
   "outputs": [
    {
     "data": {
      "image/png": "[encoded data removed]",
      "text/plain": [
       "<Figure size 432x288 with 1 Axes>"
      ]
     },
     "metadata": {
      "needs_background": "light"
     },
     "output_type": "display_data"
    }
   ],
   "source": [
    "# Create a plot that shows the regression line from the model on the test set.\n",
    "\n",
    "plot_test = plt\n",
    "plot_test.scatter(X_test, y_test, color='green', s = 15)\n",
    "plot_test.plot(X_test, y_predicted, color='red', linewidth =3)\n",
    "plot_test.title('Off White Days since release vs Sale Price (Test set)')\n",
    "plot_test.xlabel('Days since release')\n",
    "plot_test.ylabel('Sale Price')\n",
    "plot_test.show()"
   ]
  },
  {
   "cell_type": "code",
   "execution_count": 108,
   "id": "d5ce4a32",
   "metadata": {},
   "outputs": [
    {
     "name": "stdout",
     "output_type": "stream",
     "text": [
      "Slope: [[1.36734492]]\n",
      "Mean squared error:  17542.511429039427\n",
      "R2 score:  0.1628441713134835\n"
     ]
    }
   ],
   "source": [
    "# Print the model summary statistics. This is where you evaluate the performance of the model.\n",
    "\n",
    "print('Slope:' ,regression.coef_)\n",
    "print('Mean squared error: ', rmse)\n",
    "print('R2 score: ', r2)"
   ]
  },
  {
   "cell_type": "markdown",
   "id": "16e7475c",
   "metadata": {},
   "source": [
    "#### The Off White data actually shows a positive correlation between the sale price and days since release, showing that if you hold on to these sneakers they will become more valuable with time.\n",
    "#### Again though the linear regression is not a good fit, but we have gained some insight."
   ]
  },
  {
   "cell_type": "code",
   "execution_count": null,
   "id": "46a67fee",
   "metadata": {},
   "outputs": [],
   "source": []
  }
 ],
 "metadata": {
  "kernelspec": {
   "display_name": "Python 3 (ipykernel)",
   "language": "python",
   "name": "python3"
  },
  "language_info": {
   "codemirror_mode": {
    "name": "ipython",
    "version": 3
   },
   "file_extension": ".py",
   "mimetype": "text/x-python",
   "name": "python",
   "nbconvert_exporter": "python",
   "pygments_lexer": "ipython3",
   "version": "3.9.12"
  }
 },
 "nbformat": 4,
 "nbformat_minor": 5
}
